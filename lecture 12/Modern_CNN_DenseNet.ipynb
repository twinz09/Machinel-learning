{
  "nbformat": 4,
  "nbformat_minor": 0,
  "metadata": {
    "colab": {
      "provenance": [],
      "gpuType": "T4"
    },
    "kernelspec": {
      "name": "python3",
      "display_name": "Python 3"
    },
    "language_info": {
      "name": "python"
    },
    "accelerator": "GPU"
  },
  "cells": [
    {
      "cell_type": "code",
      "execution_count": 34,
      "metadata": {
        "id": "7G5KdW03HUdK"
      },
      "outputs": [],
      "source": [
        "# Jhose Immanuel Sembiring\n",
        "# 1103202047\n",
        "# TK44G4\n",
        "# Modern-CNN_DenseNet"
      ]
    },
    {
      "cell_type": "markdown",
      "source": [
        "#Library"
      ],
      "metadata": {
        "id": "N2sHTFyrJzDE"
      }
    },
    {
      "cell_type": "code",
      "source": [
        "import torch\n",
        "from torch import nn\n",
        "from torch.nn import functional as F\n",
        "from torch.utils.data import DataLoader\n",
        "from torchvision import datasets, transforms\n",
        "import matplotlib.pyplot as plt\n",
        "import numpy as np\n"
      ],
      "metadata": {
        "id": "8oy_PnK6JzW7"
      },
      "execution_count": 35,
      "outputs": []
    },
    {
      "cell_type": "markdown",
      "source": [
        "#Definisikan Dense Block"
      ],
      "metadata": {
        "id": "yZMProJsJznD"
      }
    },
    {
      "cell_type": "code",
      "source": [
        "class DenseBlock(nn.Module):\n",
        "    def __init__(self, num_convs, in_channels, out_channels):\n",
        "        super(DenseBlock, self).__init__()\n",
        "        net = []\n",
        "        for i in range(num_convs):\n",
        "            in_c = in_channels + i * out_channels\n",
        "            net.append(self.conv_block(in_c, out_channels))\n",
        "        self.net = nn.Sequential(*net)\n",
        "\n",
        "    def conv_block(self, in_channels, out_channels):\n",
        "        return nn.Sequential(\n",
        "            nn.BatchNorm2d(in_channels),\n",
        "            nn.ReLU(),\n",
        "            nn.Conv2d(in_channels, out_channels, kernel_size=3, padding=1)\n",
        "        )\n",
        "\n",
        "    def forward(self, X):\n",
        "        for blk in self.net:\n",
        "            Y = blk(X)\n",
        "            X = torch.cat((X, Y), dim=1)\n",
        "        return X\n"
      ],
      "metadata": {
        "id": "7fZJqFi_Jz2j"
      },
      "execution_count": 36,
      "outputs": []
    },
    {
      "cell_type": "markdown",
      "source": [
        "#Definisikan Transition Layer"
      ],
      "metadata": {
        "id": "GZfM6-Q_J0Cz"
      }
    },
    {
      "cell_type": "code",
      "source": [
        "class TransitionBlock(nn.Module):\n",
        "    def __init__(self, in_channels, out_channels):\n",
        "        super(TransitionBlock, self).__init__()\n",
        "        self.net = nn.Sequential(\n",
        "            nn.BatchNorm2d(in_channels),\n",
        "            nn.ReLU(),\n",
        "            nn.Conv2d(in_channels, out_channels, kernel_size=1),\n",
        "            nn.AvgPool2d(kernel_size=2, stride=2, padding=1)  # Tambahkan padding\n",
        "        )\n",
        "\n",
        "    def forward(self, X):\n",
        "        return self.net(X)\n"
      ],
      "metadata": {
        "id": "hkx-_r5VJ0Sj"
      },
      "execution_count": 37,
      "outputs": []
    },
    {
      "cell_type": "markdown",
      "source": [
        "#Definisikan Model DenseNet"
      ],
      "metadata": {
        "id": "-dZo_cUlJ0gT"
      }
    },
    {
      "cell_type": "code",
      "source": [
        "class DenseNet(nn.Module):\n",
        "    def __init__(self, num_channels, growth_rate, block_layers, num_classes):\n",
        "        super(DenseNet, self).__init__()\n",
        "        self.num_channels = num_channels\n",
        "        self.growth_rate = growth_rate\n",
        "\n",
        "        self.stem = nn.Sequential(\n",
        "            nn.Conv2d(1, num_channels, kernel_size=7, stride=2, padding=3),\n",
        "            nn.BatchNorm2d(num_channels),\n",
        "            nn.ReLU(),\n",
        "            nn.MaxPool2d(kernel_size=3, stride=2, padding=1)\n",
        "        )\n",
        "\n",
        "        layers = []\n",
        "        for i, num_convs in enumerate(block_layers):\n",
        "            layers.append(DenseBlock(num_convs, self.num_channels, growth_rate))\n",
        "            self.num_channels += num_convs * growth_rate\n",
        "            if i != len(block_layers) - 1:\n",
        "                layers.append(TransitionBlock(self.num_channels, self.num_channels // 2))\n",
        "                self.num_channels = self.num_channels // 2\n",
        "\n",
        "        self.features = nn.Sequential(*layers)\n",
        "        self.classifier = nn.Sequential(\n",
        "            nn.BatchNorm2d(self.num_channels),\n",
        "            nn.ReLU(),\n",
        "            nn.AdaptiveAvgPool2d((1, 1)),\n",
        "            nn.Flatten(),\n",
        "            nn.Linear(self.num_channels, num_classes)\n",
        "        )\n",
        "\n",
        "    def forward(self, X):\n",
        "        X = self.stem(X)\n",
        "        X = self.features(X)\n",
        "        X = self.classifier(X)\n",
        "        return X\n"
      ],
      "metadata": {
        "id": "Yi-6RqMKJ0xL"
      },
      "execution_count": 38,
      "outputs": []
    },
    {
      "cell_type": "markdown",
      "source": [
        "#Persiapkan Data"
      ],
      "metadata": {
        "id": "OmtV_qbyJ1H7"
      }
    },
    {
      "cell_type": "code",
      "source": [
        "transform = transforms.Compose([transforms.ToTensor(), transforms.Normalize((0.5,), (0.5,))])\n",
        "\n",
        "train_dataset = datasets.MNIST(root='./data', train=True, download=True, transform=transform)\n",
        "test_dataset = datasets.MNIST(root='./data', train=False, download=True, transform=transform)\n",
        "\n",
        "train_loader = DataLoader(train_dataset, batch_size=64, shuffle=True)\n",
        "test_loader = DataLoader(test_dataset, batch_size=64, shuffle=False)\n",
        "\n",
        "device = torch.device('cuda' if torch.cuda.is_available() else 'cpu')\n",
        "model = DenseNet(num_channels=64, growth_rate=32, block_layers=[2, 2, 2, 2], num_classes=10).to(device)\n",
        "\n",
        "criterion = nn.CrossEntropyLoss()\n",
        "optimizer = torch.optim.Adam(model.parameters(), lr=0.001)\n"
      ],
      "metadata": {
        "id": "JDFdB37aJ1dj"
      },
      "execution_count": 39,
      "outputs": []
    },
    {
      "cell_type": "markdown",
      "source": [
        "#Training Loop"
      ],
      "metadata": {
        "id": "LWWPcFoVKnOs"
      }
    },
    {
      "cell_type": "code",
      "source": [
        "def train(model, device, train_loader, criterion, optimizer, epoch):\n",
        "    model.train()\n",
        "    train_loss = 0\n",
        "    correct = 0\n",
        "    for batch_idx, (data, target) in enumerate(train_loader):\n",
        "        data, target = data.to(device), target.to(device)\n",
        "        optimizer.zero_grad()\n",
        "        output = model(data)\n",
        "        loss = criterion(output, target)\n",
        "        loss.backward()\n",
        "        optimizer.step()\n",
        "        train_loss += loss.item()\n",
        "        pred = output.argmax(dim=1, keepdim=True)\n",
        "        correct += pred.eq(target.view_as(pred)).sum().item()\n",
        "\n",
        "    train_loss /= len(train_loader.dataset)\n",
        "    train_accuracy = 100. * correct / len(train_loader.dataset)\n",
        "    print(f'Train Epoch: {epoch} Loss: {train_loss:.4f} Accuracy: {train_accuracy:.2f}%')\n",
        "    return train_loss, train_accuracy\n",
        "\n",
        "def test(model, device, test_loader, criterion):\n",
        "    model.eval()\n",
        "    test_loss = 0\n",
        "    correct = 0\n",
        "    with torch.no_grad():\n",
        "        for data, target in test_loader:\n",
        "            data, target = data.to(device), target.to(device)\n",
        "            output = model(data)\n",
        "            test_loss += criterion(output, target).item()\n",
        "            pred = output.argmax(dim=1, keepdim=True)\n",
        "            correct += pred.eq(target.view_as(pred)).sum().item()\n",
        "\n",
        "    test_loss /= len(test_loader.dataset)\n",
        "    test_accuracy = 100. * correct / len(test_loader.dataset)\n",
        "    print(f'Test set: Average loss: {test_loss:.4f}, Accuracy: {test_accuracy:.2f}%')\n",
        "    return test_loss, test_accuracy\n"
      ],
      "metadata": {
        "id": "z2WkFRpSKnnE"
      },
      "execution_count": 40,
      "outputs": []
    },
    {
      "cell_type": "markdown",
      "source": [
        "#Training dan Visualisasi"
      ],
      "metadata": {
        "id": "-Nbb4l6QKuC8"
      }
    },
    {
      "cell_type": "code",
      "source": [
        "num_epochs = 10\n",
        "train_losses, train_accuracies = [], []\n",
        "test_losses, test_accuracies = [], []\n",
        "\n",
        "for epoch in range(1, num_epochs + 1):\n",
        "    train_loss, train_accuracy = train(model, device, train_loader, criterion, optimizer, epoch)\n",
        "    test_loss, test_accuracy = test(model, device, test_loader, criterion)\n",
        "    train_losses.append(train_loss)\n",
        "    train_accuracies.append(train_accuracy)\n",
        "    test_losses.append(test_loss)\n",
        "    test_accuracies.append(test_accuracy)\n",
        "\n",
        "# Visualisasi Loss dan Akurasi\n",
        "epochs = range(1, num_epochs + 1)\n",
        "plt.figure(figsize=(12, 4))\n",
        "\n",
        "plt.subplot(1, 2, 1)\n",
        "plt.plot(epochs, train_losses, 'bo', label='Training loss')\n",
        "plt.plot(epochs, test_losses, 'b', label='Testing loss')\n",
        "plt.title('Training and Testing Loss')\n",
        "plt.xlabel('Epochs')\n",
        "plt.ylabel('Loss')\n",
        "plt.legend()\n",
        "\n",
        "plt.subplot(1, 2, 2)\n",
        "plt.plot(epochs, train_accuracies, 'bo', label='Training accuracy')\n",
        "plt.plot(epochs, test_accuracies, 'b', label='Testing accuracy')\n",
        "plt.title('Training and Testing Accuracy')\n",
        "plt.xlabel('Epochs')\n",
        "plt.ylabel('Accuracy')\n",
        "plt.legend()\n",
        "\n",
        "plt.show()\n"
      ],
      "metadata": {
        "colab": {
          "base_uri": "https://localhost:8080/",
          "height": 757
        },
        "id": "aDsWFGTzKuXc",
        "outputId": "012938f0-4fc9-4ec9-d44f-8922a6349c55"
      },
      "execution_count": 41,
      "outputs": [
        {
          "output_type": "stream",
          "name": "stdout",
          "text": [
            "Train Epoch: 1 Loss: 0.0022 Accuracy: 96.31%\n",
            "Test set: Average loss: 0.0007, Accuracy: 98.62%\n",
            "Train Epoch: 2 Loss: 0.0008 Accuracy: 98.41%\n",
            "Test set: Average loss: 0.0007, Accuracy: 98.56%\n",
            "Train Epoch: 3 Loss: 0.0006 Accuracy: 98.88%\n",
            "Test set: Average loss: 0.0006, Accuracy: 98.85%\n",
            "Train Epoch: 4 Loss: 0.0005 Accuracy: 99.03%\n",
            "Test set: Average loss: 0.0005, Accuracy: 98.94%\n",
            "Train Epoch: 5 Loss: 0.0004 Accuracy: 99.18%\n",
            "Test set: Average loss: 0.0005, Accuracy: 99.06%\n",
            "Train Epoch: 6 Loss: 0.0004 Accuracy: 99.29%\n",
            "Test set: Average loss: 0.0005, Accuracy: 99.04%\n",
            "Train Epoch: 7 Loss: 0.0003 Accuracy: 99.40%\n",
            "Test set: Average loss: 0.0005, Accuracy: 99.09%\n",
            "Train Epoch: 8 Loss: 0.0003 Accuracy: 99.42%\n",
            "Test set: Average loss: 0.0004, Accuracy: 99.18%\n",
            "Train Epoch: 9 Loss: 0.0003 Accuracy: 99.49%\n",
            "Test set: Average loss: 0.0004, Accuracy: 99.31%\n",
            "Train Epoch: 10 Loss: 0.0002 Accuracy: 99.62%\n",
            "Test set: Average loss: 0.0004, Accuracy: 99.31%\n"
          ]
        },
        {
          "output_type": "display_data",
          "data": {
            "text/plain": [
              "<Figure size 1200x400 with 2 Axes>"
            ],
            "image/png": "[encoded data removed]"
          },
          "metadata": {}
        }
      ]
    }
  ]
}