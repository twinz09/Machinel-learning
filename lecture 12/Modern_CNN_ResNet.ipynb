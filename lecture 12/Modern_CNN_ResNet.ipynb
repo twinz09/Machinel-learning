{
  "cells": [
    {
      "cell_type": "code",
      "execution_count": 1,
      "metadata": {
        "id": "Fo-SZjjeKucX"
      },
      "outputs": [],
      "source": [
        "# Jhose Immanuel Sembiring\n",
        "# 1103202047\n",
        "# TK44G4\n",
        "# Modern-CNN_ResNeXt"
      ]
    },
    {
      "cell_type": "markdown",
      "metadata": {
        "id": "Klr-z_siSslC"
      },
      "source": [
        "#Library"
      ]
    },
    {
      "cell_type": "code",
      "execution_count": 2,
      "metadata": {
        "id": "04un-qwNStAq"
      },
      "outputs": [],
      "source": [
        "# Import necessary libraries\n",
        "import torch\n",
        "import torch.nn as nn\n",
        "import torch.optim as optim\n",
        "import torchvision\n",
        "import torchvision.transforms as transforms\n",
        "import matplotlib.pyplot as plt\n",
        "import numpy as np\n",
        "\n",
        "# Check if GPU is available\n",
        "device = torch.device('cuda' if torch.cuda.is_available() else 'cpu')\n"
      ]
    },
    {
      "cell_type": "markdown",
      "metadata": {
        "id": "cuuvnIUTSu9i"
      },
      "source": [
        "#Blok ResNeXt"
      ]
    },
    {
      "cell_type": "code",
      "execution_count": 3,
      "metadata": {
        "id": "xvdxN6Y4SvIK"
      },
      "outputs": [],
      "source": [
        "class ResNeXtBlock(nn.Module):\n",
        "    def __init__(self, in_channels, out_channels, cardinality, stride=1):\n",
        "        super(ResNeXtBlock, self).__init__()\n",
        "        group_width = out_channels // cardinality\n",
        "        self.conv1 = nn.Conv2d(in_channels, group_width * cardinality, kernel_size=1, bias=False)\n",
        "        self.bn1 = nn.BatchNorm2d(group_width * cardinality)\n",
        "        self.conv2 = nn.Conv2d(group_width * cardinality, group_width * cardinality, kernel_size=3, stride=stride, padding=1, groups=cardinality, bias=False)\n",
        "        self.bn2 = nn.BatchNorm2d(group_width * cardinality)\n",
        "        self.conv3 = nn.Conv2d(group_width * cardinality, out_channels, kernel_size=1, bias=False)\n",
        "        self.bn3 = nn.BatchNorm2d(out_channels)\n",
        "        self.relu = nn.ReLU(inplace=True)\n",
        "\n",
        "        if stride != 1 or in_channels != out_channels:\n",
        "            self.downsample = nn.Sequential(\n",
        "                nn.Conv2d(in_channels, out_channels, kernel_size=1, stride=stride, bias=False),\n",
        "                nn.BatchNorm2d(out_channels)\n",
        "            )\n",
        "        else:\n",
        "            self.downsample = None\n",
        "\n",
        "    def forward(self, x):\n",
        "        identity = x\n",
        "\n",
        "        out = self.conv1(x)  # First convolution layer\n",
        "        out = self.bn1(out)  # Batch normalization\n",
        "        out = self.relu(out) # ReLU activation\n",
        "\n",
        "        out = self.conv2(out)  # Second convolution layer\n",
        "        out = self.bn2(out)    # Batch normalization\n",
        "        out = self.relu(out)   # ReLU activation\n",
        "\n",
        "        out = self.conv3(out)  # Third convolution layer\n",
        "        out = self.bn3(out)    # Batch normalization\n",
        "\n",
        "        if self.downsample is not None:\n",
        "            identity = self.downsample(x)  # Adjust dimensions if needed\n",
        "\n",
        "        out += identity  # Add the input (identity)\n",
        "        out = self.relu(out)  # ReLU activation\n",
        "\n",
        "        return out\n"
      ]
    },
    {
      "cell_type": "markdown",
      "metadata": {
        "id": "ghWqzkyPS75Z"
      },
      "source": [
        "#Definisi model ResNeXt"
      ]
    },
    {
      "cell_type": "code",
      "execution_count": 4,
      "metadata": {
        "id": "5gFGj85bS8ka"
      },
      "outputs": [],
      "source": [
        "class ResNeXt(nn.Module):\n",
        "    def __init__(self, block, layers, cardinality=8, num_classes=10):\n",
        "        super(ResNeXt, self).__init__()\n",
        "        self.in_channels = 64\n",
        "        self.cardinality = cardinality\n",
        "\n",
        "        self.conv1 = nn.Conv2d(3, 64, kernel_size=7, stride=2, padding=3, bias=False)\n",
        "        self.bn1 = nn.BatchNorm2d(64)\n",
        "        self.relu = nn.ReLU(inplace=True)\n",
        "        self.maxpool = nn.MaxPool2d(kernel_size=3, stride=2, padding=1)\n",
        "\n",
        "        self.layer1 = self._make_layer(block, 128, layers[0], stride=1)\n",
        "        self.layer2 = self._make_layer(block, 256, layers[1], stride=2)\n",
        "        self.layer3 = self._make_layer(block, 512, layers[2], stride=2)\n",
        "\n",
        "        self.avgpool = nn.AdaptiveAvgPool2d((1, 1))\n",
        "        self.fc = nn.Linear(512, num_classes)\n",
        "\n",
        "    def _make_layer(self, block, out_channels, blocks, stride):\n",
        "        layers = []\n",
        "        layers.append(block(self.in_channels, out_channels, self.cardinality, stride))\n",
        "        self.in_channels = out_channels\n",
        "        for _ in range(1, blocks):\n",
        "            layers.append(block(out_channels, out_channels, self.cardinality))\n",
        "        return nn.Sequential(*layers)\n",
        "\n",
        "    def forward(self, x):\n",
        "        x = self.conv1(x)\n",
        "        x = self.bn1(x)\n",
        "        x = self.relu(x)\n",
        "        x = self.maxpool(x)\n",
        "\n",
        "        x = self.layer1(x)\n",
        "        x = self.layer2(x)\n",
        "        x = self.layer3(x)\n",
        "\n",
        "        x = self.avgpool(x)\n",
        "        x = torch.flatten(x, 1)\n",
        "        x = self.fc(x)\n",
        "\n",
        "        return x\n",
        "\n",
        "# Define the smaller ResNeXt model\n",
        "def ResNeXt29_8x4d():\n",
        "    return ResNeXt(ResNeXtBlock, [1, 1, 1], cardinality=8)\n",
        "\n",
        "model = ResNeXt29_8x4d().to(device)\n"
      ]
    },
    {
      "cell_type": "markdown",
      "metadata": {
        "id": "ZR1nH-_aTB6S"
      },
      "source": [
        "#Mempersiapkan Dataset"
      ]
    },
    {
      "cell_type": "code",
      "execution_count": 5,
      "metadata": {
        "colab": {
          "base_uri": "https://localhost:8080/"
        },
        "id": "NJu75p9oTCfi",
        "outputId": "23bf2a36-c698-4fb4-98be-d94728914b44"
      },
      "outputs": [
        {
          "output_type": "stream",
          "name": "stdout",
          "text": [
            "Downloading https://www.cs.toronto.edu/~kriz/cifar-10-python.tar.gz to ./data/cifar-10-python.tar.gz\n"
          ]
        },
        {
          "output_type": "stream",
          "name": "stderr",
          "text": [
            "100%|██████████| 170498071/170498071 [00:02<00:00, 67914010.23it/s]\n"
          ]
        },
        {
          "output_type": "stream",
          "name": "stdout",
          "text": [
            "Extracting ./data/cifar-10-python.tar.gz to ./data\n",
            "Files already downloaded and verified\n"
          ]
        }
      ],
      "source": [
        "transform = transforms.Compose([\n",
        "    transforms.RandomResizedCrop(64),  # Smaller crop size\n",
        "    transforms.RandomHorizontalFlip(),\n",
        "    transforms.ToTensor(),\n",
        "    transforms.Normalize((0.5, 0.5, 0.5), (0.5, 0.5, 0.5)),\n",
        "])\n",
        "\n",
        "trainset = torchvision.datasets.CIFAR10(root='./data', train=True, download=True, transform=transform)\n",
        "trainloader = torch.utils.data.DataLoader(trainset, batch_size=32, shuffle=True, num_workers=2)\n",
        "\n",
        "testset = torchvision.datasets.CIFAR10(root='./data', train=False, download=True, transform=transform)\n",
        "testloader = torch.utils.data.DataLoader(testset, batch_size=32, shuffle=False, num_workers=2)\n"
      ]
    },
    {
      "cell_type": "markdown",
      "metadata": {
        "id": "_R9yf_0cTPSq"
      },
      "source": [
        "#Melatih Model"
      ]
    },
    {
      "cell_type": "code",
      "execution_count": 6,
      "metadata": {
        "colab": {
          "base_uri": "https://localhost:8080/"
        },
        "id": "R6TRWxMuTPsq",
        "outputId": "87945085-8e24-4aae-b4db-7717ca8c0175"
      },
      "outputs": [
        {
          "output_type": "stream",
          "name": "stdout",
          "text": [
            "[Epoch 1, Batch 100] loss: 2.149\n",
            "[Epoch 1, Batch 200] loss: 2.032\n",
            "[Epoch 1, Batch 300] loss: 1.929\n",
            "[Epoch 1, Batch 400] loss: 1.829\n",
            "[Epoch 1, Batch 500] loss: 1.789\n",
            "[Epoch 1, Batch 600] loss: 1.769\n",
            "[Epoch 1, Batch 700] loss: 1.750\n",
            "[Epoch 1, Batch 800] loss: 1.703\n",
            "[Epoch 1, Batch 900] loss: 1.671\n",
            "[Epoch 1, Batch 1000] loss: 1.648\n",
            "[Epoch 1, Batch 1100] loss: 1.644\n",
            "[Epoch 1, Batch 1200] loss: 1.569\n",
            "[Epoch 1, Batch 1300] loss: 1.603\n",
            "[Epoch 1, Batch 1400] loss: 1.578\n",
            "[Epoch 1, Batch 1500] loss: 1.563\n",
            "Accuracy of the network on the 10000 test images: 42.28%\n",
            "[Epoch 2, Batch 100] loss: 1.551\n",
            "[Epoch 2, Batch 200] loss: 1.518\n",
            "[Epoch 2, Batch 300] loss: 1.527\n",
            "[Epoch 2, Batch 400] loss: 1.483\n",
            "[Epoch 2, Batch 500] loss: 1.523\n",
            "[Epoch 2, Batch 600] loss: 1.490\n",
            "[Epoch 2, Batch 700] loss: 1.467\n",
            "[Epoch 2, Batch 800] loss: 1.474\n",
            "[Epoch 2, Batch 900] loss: 1.459\n",
            "[Epoch 2, Batch 1000] loss: 1.456\n",
            "[Epoch 2, Batch 1100] loss: 1.457\n",
            "[Epoch 2, Batch 1200] loss: 1.393\n",
            "[Epoch 2, Batch 1300] loss: 1.413\n",
            "[Epoch 2, Batch 1400] loss: 1.350\n",
            "[Epoch 2, Batch 1500] loss: 1.400\n",
            "Accuracy of the network on the 10000 test images: 50.49%\n",
            "[Epoch 3, Batch 100] loss: 1.394\n",
            "[Epoch 3, Batch 200] loss: 1.416\n",
            "[Epoch 3, Batch 300] loss: 1.353\n",
            "[Epoch 3, Batch 400] loss: 1.384\n",
            "[Epoch 3, Batch 500] loss: 1.375\n",
            "[Epoch 3, Batch 600] loss: 1.324\n",
            "[Epoch 3, Batch 700] loss: 1.365\n",
            "[Epoch 3, Batch 800] loss: 1.310\n",
            "[Epoch 3, Batch 900] loss: 1.329\n",
            "[Epoch 3, Batch 1000] loss: 1.310\n",
            "[Epoch 3, Batch 1100] loss: 1.365\n",
            "[Epoch 3, Batch 1200] loss: 1.319\n",
            "[Epoch 3, Batch 1300] loss: 1.305\n",
            "[Epoch 3, Batch 1400] loss: 1.315\n",
            "[Epoch 3, Batch 1500] loss: 1.288\n",
            "Accuracy of the network on the 10000 test images: 54.01%\n",
            "[Epoch 4, Batch 100] loss: 1.296\n",
            "[Epoch 4, Batch 200] loss: 1.279\n",
            "[Epoch 4, Batch 300] loss: 1.278\n",
            "[Epoch 4, Batch 400] loss: 1.290\n",
            "[Epoch 4, Batch 500] loss: 1.308\n",
            "[Epoch 4, Batch 600] loss: 1.248\n",
            "[Epoch 4, Batch 700] loss: 1.244\n",
            "[Epoch 4, Batch 800] loss: 1.257\n",
            "[Epoch 4, Batch 900] loss: 1.292\n",
            "[Epoch 4, Batch 1000] loss: 1.233\n",
            "[Epoch 4, Batch 1100] loss: 1.252\n",
            "[Epoch 4, Batch 1200] loss: 1.242\n",
            "[Epoch 4, Batch 1300] loss: 1.211\n",
            "[Epoch 4, Batch 1400] loss: 1.216\n",
            "[Epoch 4, Batch 1500] loss: 1.199\n",
            "Accuracy of the network on the 10000 test images: 55.98%\n",
            "[Epoch 5, Batch 100] loss: 1.193\n",
            "[Epoch 5, Batch 200] loss: 1.241\n",
            "[Epoch 5, Batch 300] loss: 1.181\n",
            "[Epoch 5, Batch 400] loss: 1.192\n",
            "[Epoch 5, Batch 500] loss: 1.200\n",
            "[Epoch 5, Batch 600] loss: 1.180\n",
            "[Epoch 5, Batch 700] loss: 1.173\n",
            "[Epoch 5, Batch 800] loss: 1.197\n",
            "[Epoch 5, Batch 900] loss: 1.214\n",
            "[Epoch 5, Batch 1000] loss: 1.189\n",
            "[Epoch 5, Batch 1100] loss: 1.203\n",
            "[Epoch 5, Batch 1200] loss: 1.181\n",
            "[Epoch 5, Batch 1300] loss: 1.139\n",
            "[Epoch 5, Batch 1400] loss: 1.153\n",
            "[Epoch 5, Batch 1500] loss: 1.131\n",
            "Accuracy of the network on the 10000 test images: 58.31%\n"
          ]
        }
      ],
      "source": [
        "# Define loss function and optimizer\n",
        "criterion = nn.CrossEntropyLoss()\n",
        "optimizer = optim.SGD(model.parameters(), lr=0.01, momentum=0.9, weight_decay=5e-4)\n",
        "\n",
        "# Training function\n",
        "def train(epoch):\n",
        "    model.train()\n",
        "    running_loss = 0.0\n",
        "    for i, data in enumerate(trainloader, 0):\n",
        "        inputs, labels = data[0].to(device), data[1].to(device)\n",
        "\n",
        "        optimizer.zero_grad()\n",
        "\n",
        "        outputs = model(inputs)\n",
        "        loss = criterion(outputs, labels)\n",
        "        loss.backward()\n",
        "        optimizer.step()\n",
        "\n",
        "        running_loss += loss.item()\n",
        "        if i % 100 == 99:    # Print every 100 mini-batches\n",
        "            print(f'[Epoch {epoch + 1}, Batch {i + 1}] loss: {running_loss / 100:.3f}')\n",
        "            running_loss = 0.0\n",
        "\n",
        "# Evaluation function\n",
        "def test():\n",
        "    model.eval()\n",
        "    correct = 0\n",
        "    total = 0\n",
        "    with torch.no_grad():\n",
        "        for data in testloader:\n",
        "            images, labels = data[0].to(device), data[1].to(device)\n",
        "            outputs = model(images)\n",
        "            _, predicted = torch.max(outputs.data, 1)\n",
        "            total += labels.size(0)\n",
        "            correct += (predicted == labels).sum().item()\n",
        "\n",
        "    print(f'Accuracy of the network on the 10000 test images: {100 * correct / total:.2f}%')\n",
        "\n",
        "# Train and evaluate the model\n",
        "for epoch in range(5):  # Train for 5 epochs\n",
        "    train(epoch)\n",
        "    test()\n"
      ]
    },
    {
      "cell_type": "markdown",
      "metadata": {
        "id": "v8Gy8wT2W36p"
      },
      "source": [
        "#Visualisasi Hasil"
      ]
    },
    {
      "cell_type": "code",
      "execution_count": null,
      "metadata": {
        "id": "nqyL_KGGW4NS",
        "colab": {
          "base_uri": "https://localhost:8080/"
        },
        "outputId": "9046b390-73d4-4b07-f26c-f29bae8ea16c"
      },
      "outputs": [
        {
          "output_type": "stream",
          "name": "stdout",
          "text": [
            "[Epoch 1, Batch 100] loss: 1.133\n",
            "[Epoch 1, Batch 200] loss: 1.153\n",
            "[Epoch 1, Batch 300] loss: 1.142\n",
            "[Epoch 1, Batch 400] loss: 1.134\n",
            "[Epoch 1, Batch 500] loss: 1.170\n",
            "[Epoch 1, Batch 600] loss: 1.087\n",
            "[Epoch 1, Batch 700] loss: 1.124\n",
            "[Epoch 1, Batch 800] loss: 1.149\n",
            "[Epoch 1, Batch 900] loss: 1.127\n",
            "[Epoch 1, Batch 1000] loss: 1.138\n",
            "[Epoch 1, Batch 1100] loss: 1.145\n"
          ]
        }
      ],
      "source": [
        "# Initialize lists to store loss and accuracy\n",
        "train_losses = []\n",
        "test_accuracies = []\n",
        "\n",
        "# Modified training function to track loss\n",
        "def train_with_tracking(epoch):\n",
        "    model.train()\n",
        "    running_loss = 0.0\n",
        "    for i, data in enumerate(trainloader, 0):\n",
        "        inputs, labels = data[0].to(device), data[1].to(device)\n",
        "\n",
        "        optimizer.zero_grad()\n",
        "\n",
        "        outputs = model(inputs)\n",
        "        loss = criterion(outputs, labels)\n",
        "        loss.backward()\n",
        "        optimizer.step()\n",
        "\n",
        "        running_loss += loss.item()\n",
        "        if i % 100 == 99:    # Print every 100 mini-batches\n",
        "            print(f'[Epoch {epoch + 1}, Batch {i + 1}] loss: {running_loss / 100:.3f}')\n",
        "            train_losses.append(running_loss / 100)\n",
        "            running_loss = 0.0\n",
        "\n",
        "# Modified evaluation function to track accuracy\n",
        "def test_with_tracking():\n",
        "    model.eval()\n",
        "    correct = 0\n",
        "    total = 0\n",
        "    with torch.no_grad():\n",
        "        for data in testloader:\n",
        "            images, labels = data[0].to(device), data[1].to(device)\n",
        "            outputs = model(images)\n",
        "            _, predicted = torch.max(outputs.data, 1)\n",
        "            total += labels.size(0)\n",
        "            correct += (predicted == labels).sum().item()\n",
        "\n",
        "    accuracy = 100 * correct / total\n",
        "    test_accuracies.append(accuracy)\n",
        "    print(f'Accuracy of the network on the 10000 test images: {accuracy:.2f}%')\n",
        "\n",
        "# Train and evaluate the model with tracking\n",
        "for epoch in range(5):  # Train for 5 epochs\n",
        "    train_with_tracking(epoch)\n",
        "    test_with_tracking()\n",
        "\n",
        "# Plot training loss and test accuracy\n",
        "epochs = range(1, 6)\n",
        "plt.figure(figsize=(12, 4))\n",
        "\n",
        "plt.subplot(1, 2, 1)\n",
        "plt.plot(epochs, train_losses, 'o-', label='Training loss')\n",
        "plt.title('Training loss')\n",
        "plt.xlabel('Epoch')\n",
        "plt.ylabel('Loss')\n",
        "plt.legend()\n",
        "\n",
        "plt.subplot(1, 2, 2)\n",
        "plt.plot(epochs, test_accuracies, 'o-', label='Test accuracy')\n",
        "plt.title('Test accuracy')\n",
        "plt.xlabel('Epoch')\n",
        "plt.ylabel('Accuracy (%)')\n",
        "plt.legend()\n",
        "\n",
        "plt.show()\n"
      ]
    }
  ],
  "metadata": {
    "accelerator": "GPU",
    "colab": {
      "gpuType": "T4",
      "provenance": []
    },
    "kernelspec": {
      "display_name": "Python 3",
      "name": "python3"
    },
    "language_info": {
      "name": "python"
    }
  },
  "nbformat": 4,
  "nbformat_minor": 0
}