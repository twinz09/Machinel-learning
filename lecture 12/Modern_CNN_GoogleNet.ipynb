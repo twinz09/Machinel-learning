{
  "nbformat": 4,
  "nbformat_minor": 0,
  "metadata": {
    "colab": {
      "provenance": [],
      "gpuType": "T4"
    },
    "kernelspec": {
      "name": "python3",
      "display_name": "Python 3"
    },
    "language_info": {
      "name": "python"
    },
    "accelerator": "GPU"
  },
  "cells": [
    {
      "cell_type": "code",
      "execution_count": 34,
      "metadata": {
        "id": "gNMlWFGNJJFj"
      },
      "outputs": [],
      "source": [
        "# Jhose Immanuel Sembiring\n",
        "# 1103202047\n",
        "# TK44G4\n",
        "# Modern-CNN_GoogleNet"
      ]
    },
    {
      "cell_type": "markdown",
      "source": [
        "#Library"
      ],
      "metadata": {
        "id": "cfXD69dkMJPU"
      }
    },
    {
      "cell_type": "code",
      "source": [
        "import torch\n",
        "from torch import nn\n",
        "import torch.nn.functional as F\n"
      ],
      "metadata": {
        "id": "DxIJA3zWMJd7"
      },
      "execution_count": 35,
      "outputs": []
    },
    {
      "cell_type": "markdown",
      "source": [
        "#Kelas Inception Block"
      ],
      "metadata": {
        "id": "B22oJv0tMPM7"
      }
    },
    {
      "cell_type": "code",
      "source": [
        "# Inception block implementation\n",
        "class Inception(nn.Module):\n",
        "    def __init__(self, in_channels, c1, c2_in, c2_out, c3_in, c3_out, c4_out):\n",
        "        super(Inception, self).__init__()\n",
        "        # Branch 1\n",
        "        self.b1 = nn.Conv2d(in_channels, c1, kernel_size=1)\n",
        "\n",
        "        # Branch 2\n",
        "        self.b2_1 = nn.Conv2d(in_channels, c2_in, kernel_size=1)\n",
        "        self.b2_2 = nn.Conv2d(c2_in, c2_out, kernel_size=3, padding=1)\n",
        "\n",
        "        # Branch 3\n",
        "        self.b3_1 = nn.Conv2d(in_channels, c3_in, kernel_size=1)\n",
        "        self.b3_2 = nn.Conv2d(c3_in, c3_out, kernel_size=5, padding=2)\n",
        "\n",
        "        # Branch 4\n",
        "        self.b4_1 = nn.MaxPool2d(kernel_size=3, stride=1, padding=1)\n",
        "        self.b4_2 = nn.Conv2d(in_channels, c4_out, kernel_size=1)\n",
        "\n",
        "    def forward(self, x):\n",
        "        b1 = F.relu(self.b1(x))\n",
        "        b2 = F.relu(self.b2_2(F.relu(self.b2_1(x))))\n",
        "        b3 = F.relu(self.b3_2(F.relu(self.b3_1(x))))\n",
        "        b4 = F.relu(self.b4_2(self.b4_1(x)))\n",
        "        return torch.cat((b1, b2, b3, b4), dim=1)"
      ],
      "metadata": {
        "id": "a0_vsjNYMPcD"
      },
      "execution_count": 36,
      "outputs": []
    },
    {
      "cell_type": "markdown",
      "source": [
        "#Model GoogleNet"
      ],
      "metadata": {
        "id": "IcS1blIGMx8T"
      }
    },
    {
      "cell_type": "code",
      "source": [
        "# GoogleNet model implementation\n",
        "class GoogleNet(nn.Module):\n",
        "    def __init__(self, num_classes=10):\n",
        "        super(GoogleNet, self).__init__()\n",
        "        self.conv1 = nn.Conv2d(1, 64, kernel_size=7, stride=2, padding=3)  # Stem\n",
        "        self.maxpool1 = nn.MaxPool2d(kernel_size=3, stride=2, padding=1)\n",
        "\n",
        "        self.conv2_1 = nn.Conv2d(64, 64, kernel_size=1)  # Inception 3a\n",
        "        self.conv2_2 = nn.Conv2d(64, 192, kernel_size=3, padding=1)\n",
        "        self.maxpool2 = nn.MaxPool2d(kernel_size=3, stride=2, padding=1)\n",
        "\n",
        "        self.inception3a = Inception(192, 64, 96, 128, 16, 32, 32)\n",
        "        self.inception3b = Inception(256, 128, 128, 192, 32, 96, 64)\n",
        "        self.maxpool3 = nn.MaxPool2d(kernel_size=3, stride=2, padding=1)\n",
        "\n",
        "        self.inception4a = Inception(480, 192, 96, 208, 16, 48, 64)\n",
        "        self.inception4b = Inception(512, 160, 112, 224, 24, 64, 64)\n",
        "        self.inception4c = Inception(512, 128, 128, 256, 24, 64, 64)\n",
        "        self.inception4d = Inception(512, 112, 144, 288, 32, 64, 64)\n",
        "        self.inception4e = Inception(528, 256, 160, 320, 32, 128, 128)\n",
        "        self.maxpool4 = nn.MaxPool2d(kernel_size=3, stride=2, padding=1)\n",
        "\n",
        "        self.inception5a = Inception(832, 256, 160, 320, 32, 128, 128)\n",
        "        self.inception5b = Inception(832, 384, 192, 384, 48, 128, 128)\n",
        "\n",
        "        self.avgpool = nn.AdaptiveAvgPool2d((1, 1))\n",
        "        self.dropout = nn.Dropout(p=0.4)\n",
        "        self.fc = nn.Linear(1024, num_classes)\n",
        "\n",
        "    def forward(self, x):\n",
        "        x = self.maxpool1(F.relu(self.conv1(x)))\n",
        "        x = self.maxpool2(F.relu(self.conv2_2(F.relu(self.conv2_1(x)))))\n",
        "        x = self.maxpool3(self.inception3b(self.inception3a(x)))\n",
        "        x = self.maxpool4(self.inception4e(self.inception4d(self.inception4c(self.inception4b(self.inception4a(x))))))\n",
        "        x = self.avgpool(self.inception5b(self.inception5a(x)))\n",
        "        x = x.view(x.size(0), -1)\n",
        "        x = self.dropout(x)\n",
        "        x = self.fc(x)\n",
        "        return x"
      ],
      "metadata": {
        "id": "TH11kb6BMyNb"
      },
      "execution_count": 37,
      "outputs": []
    },
    {
      "cell_type": "markdown",
      "source": [
        "#Cek Output"
      ],
      "metadata": {
        "id": "-vh_oO2-Naay"
      }
    },
    {
      "cell_type": "code",
      "source": [
        "# Mengecek bentuk output dari setiap inception block\n",
        "def check_output_shape(model, input_size):\n",
        "    model.eval()\n",
        "    with torch.no_grad():\n",
        "        x = torch.randn(*input_size)\n",
        "        output = model(x)\n",
        "        print(f\"Output shape: {output.shape}\")"
      ],
      "metadata": {
        "id": "uE7ptwXaNaoq"
      },
      "execution_count": 38,
      "outputs": []
    },
    {
      "cell_type": "markdown",
      "source": [
        "#Hasil"
      ],
      "metadata": {
        "id": "kZYqWXkuP18z"
      }
    },
    {
      "cell_type": "code",
      "source": [
        "# Membuat model GoogleNet\n",
        "model = GoogleNet(num_classes=10)\n",
        "\n",
        "# Menampilkan bentuk output dari setiap inception block\n",
        "check_output_shape(model, (1, 1, 96, 96))"
      ],
      "metadata": {
        "colab": {
          "base_uri": "https://localhost:8080/"
        },
        "id": "1qj27HK7P2KL",
        "outputId": "a9cc0ef0-e58e-4c30-81d1-77cc109789ca"
      },
      "execution_count": 39,
      "outputs": [
        {
          "output_type": "stream",
          "name": "stdout",
          "text": [
            "Output shape: torch.Size([1, 10])\n"
          ]
        }
      ]
    }
  ]
}