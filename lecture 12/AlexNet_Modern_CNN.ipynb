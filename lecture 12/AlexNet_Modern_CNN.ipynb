{
  "nbformat": 4,
  "nbformat_minor": 0,
  "metadata": {
    "colab": {
      "provenance": [],
      "gpuType": "T4"
    },
    "kernelspec": {
      "name": "python3",
      "display_name": "Python 3"
    },
    "language_info": {
      "name": "python"
    },
    "accelerator": "GPU"
  },
  "cells": [
    {
      "cell_type": "code",
      "execution_count": null,
      "metadata": {
        "id": "D5kBIpQIwBAa"
      },
      "outputs": [],
      "source": [
        "# Jhose Immanuel Sembiring\n",
        "# 1103202047\n",
        "# TK44G4\n",
        "# Modern CNN_AlexNet"
      ]
    },
    {
      "cell_type": "markdown",
      "source": [
        "#Library\n"
      ],
      "metadata": {
        "id": "SeW7OyK_4cK4"
      }
    },
    {
      "cell_type": "code",
      "source": [
        "import matplotlib.pyplot as plt\n",
        "import torch\n",
        "from torch import nn\n",
        "from torch.utils.data import DataLoader\n",
        "from torchvision import datasets, transforms\n"
      ],
      "metadata": {
        "id": "6f6Z4AXx21Vu"
      },
      "execution_count": null,
      "outputs": []
    },
    {
      "cell_type": "markdown",
      "source": [
        "# Cek apakah CUDA tersedia\n"
      ],
      "metadata": {
        "id": "mqpIye7QChWT"
      }
    },
    {
      "cell_type": "code",
      "source": [
        "device = torch.device(\"cuda\" if torch.cuda.is_available() else \"cpu\")\n",
        "print(f'Using device: {device}')"
      ],
      "metadata": {
        "colab": {
          "base_uri": "https://localhost:8080/"
        },
        "id": "iz259m6YCfgc",
        "outputId": "fd556c12-0d36-492d-fcc3-a5b9d9ea63a7"
      },
      "execution_count": null,
      "outputs": [
        {
          "output_type": "stream",
          "name": "stdout",
          "text": [
            "Using device: cuda\n"
          ]
        }
      ]
    },
    {
      "cell_type": "markdown",
      "source": [
        "#Mendefinisikan Arsitektur AlexNet"
      ],
      "metadata": {
        "id": "CI8b27Q249rn"
      }
    },
    {
      "cell_type": "code",
      "source": [
        "class AlexNet(nn.Module):\n",
        "    def __init__(self, num_classes=10):\n",
        "        super(AlexNet, self).__init__()\n",
        "        self.net = nn.Sequential(\n",
        "            nn.Conv2d(1, 96, kernel_size=11, stride=4, padding=1),  # Lapisan konvolusi pertama\n",
        "            nn.ReLU(),  # Fungsi aktivasi ReLU\n",
        "            nn.MaxPool2d(kernel_size=3, stride=2),  # Max-pooling pertama\n",
        "            nn.Conv2d(96, 256, kernel_size=5, padding=2),  # Lapisan konvolusi kedua\n",
        "            nn.ReLU(),  # Fungsi aktivasi ReLU\n",
        "            nn.MaxPool2d(kernel_size=3, stride=2),  # Max-pooling kedua\n",
        "            nn.Conv2d(256, 384, kernel_size=3, padding=1),  # Lapisan konvolusi ketiga\n",
        "            nn.ReLU(),  # Fungsi aktivasi ReLU\n",
        "            nn.Conv2d(384, 384, kernel_size=3, padding=1),  # Lapisan konvolusi keempat\n",
        "            nn.ReLU(),  # Fungsi aktivasi ReLU\n",
        "            nn.Conv2d(384, 256, kernel_size=3, padding=1),  # Lapisan konvolusi kelima\n",
        "            nn.ReLU(),  # Fungsi aktivasi ReLU\n",
        "            nn.MaxPool2d(kernel_size=3, stride=2),  # Max-pooling ketiga\n",
        "            nn.Flatten(),  # Flatten untuk meratakan tensor\n",
        "            nn.Linear(256*5*5, 4096),  # Lapisan fully connected pertama\n",
        "            nn.ReLU(),  # Fungsi aktivasi ReLU\n",
        "            nn.Dropout(p=0.5),  # Dropout dengan probabilitas 0.5\n",
        "            nn.Linear(4096, 4096),  # Lapisan fully connected kedua\n",
        "            nn.ReLU(),  # Fungsi aktivasi ReLU\n",
        "            nn.Dropout(p=0.5),  # Dropout dengan probabilitas 0.5\n",
        "            nn.Linear(4096, num_classes)  # Lapisan fully connected ketiga (output)\n",
        "        )\n",
        "\n",
        "    def forward(self, x):  # Metode forward untuk melakukan forward pass\n",
        "        return self.net(x)"
      ],
      "metadata": {
        "id": "ta39BkzC49-p"
      },
      "execution_count": null,
      "outputs": []
    },
    {
      "cell_type": "markdown",
      "source": [
        "#Transformasi Dataset"
      ],
      "metadata": {
        "id": "1iRKMKi94-Yx"
      }
    },
    {
      "cell_type": "code",
      "source": [
        "transform = transforms.Compose([\n",
        "    transforms.Resize((224, 224)),  # Mengubah ukuran gambar menjadi 224x224 piksel\n",
        "    transforms.ToTensor(),  # Mengubah gambar menjadi tensor\n",
        "    transforms.Normalize(mean=[0.5], std=[0.5])  # Normalisasi gambar\n",
        "])"
      ],
      "metadata": {
        "id": "fecl5mi74-sC"
      },
      "execution_count": null,
      "outputs": []
    },
    {
      "cell_type": "markdown",
      "source": [
        "#Memuat dataset FashionMNIST untuk training"
      ],
      "metadata": {
        "id": "_9RaEAQ84_Ay"
      }
    },
    {
      "cell_type": "code",
      "source": [
        "train_dataset = datasets.FashionMNIST(root='data', train=True, download=True, transform=transform)\n",
        "train_loader = DataLoader(train_dataset, batch_size=128, shuffle=True)\n"
      ],
      "metadata": {
        "id": "dbEtJEKg4_R4"
      },
      "execution_count": null,
      "outputs": []
    },
    {
      "cell_type": "markdown",
      "source": [
        "#Memuat dataset FashionMNIST untuk testing"
      ],
      "metadata": {
        "id": "UJ7JGen34_xh"
      }
    },
    {
      "cell_type": "code",
      "source": [
        "test_dataset = datasets.FashionMNIST(root='data', train=False, download=True, transform=transform)\n",
        "test_loader = DataLoader(test_dataset, batch_size=128, shuffle=False)\n"
      ],
      "metadata": {
        "id": "4Dd-hqoh5AA-"
      },
      "execution_count": null,
      "outputs": []
    },
    {
      "cell_type": "markdown",
      "source": [
        "#Fungsi untuk melatih model"
      ],
      "metadata": {
        "id": "IezcdOIC6frW"
      }
    },
    {
      "cell_type": "code",
      "source": [
        "def train_model(model, train_loader, criterion, optimizer, num_epochs=10):\n",
        "    train_loss_history = []\n",
        "    val_loss_history = []\n",
        "    val_acc_history = []\n",
        "\n",
        "    for epoch in range(num_epochs):\n",
        "        model.train()\n",
        "        running_loss = 0.0\n",
        "        for images, labels in train_loader:\n",
        "            images, labels = images.to(device), labels.to(device)\n",
        "            optimizer.zero_grad()\n",
        "            outputs = model(images)\n",
        "            loss = criterion(outputs, labels)\n",
        "            loss.backward()\n",
        "            optimizer.step()\n",
        "            running_loss += loss.item() * images.size(0)\n",
        "\n",
        "        epoch_loss = running_loss / len(train_loader.dataset)\n",
        "        train_loss_history.append(epoch_loss)\n",
        "\n",
        "        val_loss, val_acc = evaluate_model(model, test_loader, criterion)  # Evaluasi model\n",
        "        val_loss_history.append(val_loss)\n",
        "        val_acc_history.append(val_acc)\n",
        "\n",
        "        print(f'Epoch {epoch+1}/{num_epochs}, '\n",
        "              f'Train Loss: {epoch_loss:.4f}, '\n",
        "              f'Val Loss: {val_loss:.4f}, '\n",
        "              f'Val Acc: {val_acc:.4f}')  # Cetak hasil per epoch\n",
        "\n",
        "    return train_loss_history, val_loss_history, val_acc_history\n"
      ],
      "metadata": {
        "id": "TbG3d0FL6f_g"
      },
      "execution_count": null,
      "outputs": []
    },
    {
      "cell_type": "markdown",
      "source": [
        "#Fungsi untuk mengevaluasi model"
      ],
      "metadata": {
        "id": "XCijFK5V6gVV"
      }
    },
    {
      "cell_type": "code",
      "source": [
        "def evaluate_model(model, data_loader, criterion):\n",
        "    model.eval()\n",
        "    running_loss = 0.0\n",
        "    correct = 0\n",
        "    total = 0\n",
        "\n",
        "    with torch.no_grad():\n",
        "        for images, labels in data_loader:\n",
        "            images, labels = images.to(device), labels.to(device)\n",
        "            outputs = model(images)\n",
        "            loss = criterion(outputs, labels)\n",
        "            running_loss += loss.item() * images.size(0)\n",
        "            _, predicted = torch.max(outputs, 1)\n",
        "            total += labels.size(0)\n",
        "            correct += (predicted == labels).sum().item()\n",
        "\n",
        "    loss = running_loss / len(data_loader.dataset)\n",
        "    accuracy = correct / total\n",
        "    return loss, accuracy"
      ],
      "metadata": {
        "id": "-_kuXmKl6gj_"
      },
      "execution_count": null,
      "outputs": []
    },
    {
      "cell_type": "markdown",
      "source": [
        "#Inisialisasi model, loss function, dan optimizer"
      ],
      "metadata": {
        "id": "r6XuA_Pt6ruP"
      }
    },
    {
      "cell_type": "code",
      "source": [
        "model = AlexNet(num_classes=10).to(device)  # Inisialisasi model AlexNet dengan 10 kelas dan pindahkan ke perangkat\n",
        "criterion = nn.CrossEntropyLoss()  # Gunakan CrossEntropyLoss\n",
        "optimizer = torch.optim.Adam(model.parameters(), lr=0.001)\n"
      ],
      "metadata": {
        "id": "w6peiHrW6r_E"
      },
      "execution_count": null,
      "outputs": []
    },
    {
      "cell_type": "markdown",
      "source": [
        "#Melatih Model"
      ],
      "metadata": {
        "id": "iNz9bKyN-skW"
      }
    },
    {
      "cell_type": "code",
      "source": [
        "train_loss, val_loss, val_acc = train_model(model, train_loader, criterion, optimizer, num_epochs=10)"
      ],
      "metadata": {
        "colab": {
          "base_uri": "https://localhost:8080/"
        },
        "id": "MUoy1vca-s2N",
        "outputId": "d7bc7f19-5648-4ee9-98df-4c78c55b7663"
      },
      "execution_count": null,
      "outputs": [
        {
          "output_type": "stream",
          "name": "stderr",
          "text": [
            "/usr/local/lib/python3.10/dist-packages/torch/nn/modules/conv.py:456: UserWarning: Plan failed with a cudnnException: CUDNN_BACKEND_EXECUTION_PLAN_DESCRIPTOR: cudnnFinalize Descriptor Failed cudnn_status: CUDNN_STATUS_NOT_SUPPORTED (Triggered internally at ../aten/src/ATen/native/cudnn/Conv_v8.cpp:919.)\n",
            "  return F.conv2d(input, weight, bias, self.stride,\n"
          ]
        },
        {
          "output_type": "stream",
          "name": "stdout",
          "text": [
            "Epoch 1/10, Train Loss: 0.7746, Val Loss: 0.4427, Val Acc: 0.8378\n",
            "Epoch 2/10, Train Loss: 0.3815, Val Loss: 0.3663, Val Acc: 0.8681\n",
            "Epoch 3/10, Train Loss: 0.3303, Val Loss: 0.3516, Val Acc: 0.8718\n",
            "Epoch 4/10, Train Loss: 0.3040, Val Loss: 0.3024, Val Acc: 0.8933\n",
            "Epoch 5/10, Train Loss: 0.2865, Val Loss: 0.2823, Val Acc: 0.8946\n",
            "Epoch 6/10, Train Loss: 0.2716, Val Loss: 0.2926, Val Acc: 0.8923\n",
            "Epoch 7/10, Train Loss: 0.2604, Val Loss: 0.2853, Val Acc: 0.8968\n",
            "Epoch 8/10, Train Loss: 0.2463, Val Loss: 0.2716, Val Acc: 0.9016\n",
            "Epoch 9/10, Train Loss: 0.2383, Val Loss: 0.2707, Val Acc: 0.8985\n",
            "Epoch 10/10, Train Loss: 0.2265, Val Loss: 0.2757, Val Acc: 0.9014\n"
          ]
        }
      ]
    },
    {
      "cell_type": "markdown",
      "source": [
        "#Grafik"
      ],
      "metadata": {
        "id": "nFgOSWfB-yQR"
      }
    },
    {
      "cell_type": "code",
      "source": [
        "# Plot training dan validation loss\n",
        "plt.figure(figsize=(12, 5))\n",
        "plt.subplot(1, 2, 1)\n",
        "plt.plot(train_loss, label='Train Loss')\n",
        "plt.plot(val_loss, label='Validation Loss')\n",
        "plt.xlabel('Epoch')\n",
        "plt.ylabel('Loss')\n",
        "plt.legend()\n",
        "plt.title('Training and Validation Loss')\n",
        "\n",
        "# Plot validation accuracy\n",
        "plt.subplot(1, 2, 2)\n",
        "plt.plot(val_acc, label='Validation Accuracy')\n",
        "plt.xlabel('Epoch')\n",
        "plt.ylabel('Accuracy')\n",
        "plt.legend()\n",
        "plt.title('Validation Accuracy')\n",
        "\n",
        "plt.show()"
      ],
      "metadata": {
        "colab": {
          "base_uri": "https://localhost:8080/"
        },
        "id": "6dOV8azZ-ywR",
        "outputId": "5e53f795-9442-4e38-c2ab-852379d07794"
      },
      "execution_count": null,
      "outputs": [
        {
          "output_type": "display_data",
          "data": {
            "text/plain": [
              "<Figure size 1200x500 with 2 Axes>"
            ],
            "image/png": "[encoded data removed]"
          },
          "metadata": {}
        }
      ]
    }
  ]
}