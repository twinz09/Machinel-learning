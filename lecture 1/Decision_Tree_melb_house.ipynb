{
  "nbformat": 4,
  "nbformat_minor": 0,
  "metadata": {
    "colab": {
      "provenance": [],
      "gpuType": "T4"
    },
    "kernelspec": {
      "name": "python3",
      "display_name": "Python 3"
    },
    "language_info": {
      "name": "python"
    },
    "accelerator": "GPU"
  },
  "cells": [
    {
      "cell_type": "code",
      "execution_count": null,
      "metadata": {
        "id": "ZR6I-Ohyz8eF"
      },
      "outputs": [],
      "source": [
        "# Jhose Immanuel Sembiring\n",
        "# 1103202047\n",
        "# TK44G4\n",
        "# Decision Tree_melb_house.csv\n",
        "# Dokumentasi ChatGPT : https://chat.openai.com/share/8b740390-2961-404c-911c-2d926f912cd1"
      ]
    },
    {
      "cell_type": "code",
      "source": [
        "# mengkoneksikan google colab dengan google drive\n",
        "from google.colab import drive\n",
        "drive.mount('/content/drive')\n"
      ],
      "metadata": {
        "colab": {
          "base_uri": "https://localhost:8080/"
        },
        "id": "Or9NNVWO1RzW",
        "outputId": "07fac37d-811d-4b4d-92b9-82ec847cd8dd"
      },
      "execution_count": 4,
      "outputs": [
        {
          "output_type": "stream",
          "name": "stdout",
          "text": [
            "Mounted at /content/drive\n"
          ]
        }
      ]
    },
    {
      "cell_type": "code",
      "source": [
        "# Import library yang diperlukan\n",
        "import pandas as pd\n",
        "from sklearn.model_selection import train_test_split\n",
        "from sklearn.tree import DecisionTreeClassifier\n",
        "from sklearn.metrics import accuracy_score\n",
        "\n",
        "# Path ke file CSV di Google Drive\n",
        "file_path = '/content/drive/MyDrive/Semester8/Machine Learning/lecture 1/dataset/melb_data.csv'\n",
        "\n",
        "# Membaca data CSV\n",
        "data = pd.read_csv(file_path)\n",
        "\n",
        "# Melihat lima baris pertama dari data\n",
        "print(data.head())\n",
        "\n",
        "# Memisahkan fitur (features) dan target variable\n",
        "X = data.drop(columns=['Rooms'])\n",
        "y = data['Price']\n",
        "\n",
        "# Memisahkan data menjadi data latih (training) dan data uji (testing)\n",
        "X_train, X_test, y_train, y_test = train_test_split(X, y, test_size=0.2, random_state=42)\n",
        "\n",
        "# Membuat model Decision Tree\n",
        "model = DecisionTreeClassifier()\n",
        "\n",
        "# Melatih model dengan data latih\n",
        "model.fit(X_train, y_train)\n",
        "\n",
        "# Memprediksi kelas untuk data uji\n",
        "predictions = model.predict(X_test)\n",
        "\n",
        "# Menghitung akurasi\n",
        "accuracy = accuracy_score(y_test, predictions)\n",
        "print(\"Accuracy:\", accuracy)\n"
      ],
      "metadata": {
        "id": "g1Q_GPRI2Lo_"
      },
      "execution_count": null,
      "outputs": []
    }
  ]
}