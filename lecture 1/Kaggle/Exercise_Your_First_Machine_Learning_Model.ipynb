{
  "metadata": {
    "kernelspec": {
      "display_name": "Python 3",
      "language": "python",
      "name": "python3"
    },
    "language_info": {
      "name": "python",
      "version": "3.10.13",
      "mimetype": "text/x-python",
      "codemirror_mode": {
        "name": "ipython",
        "version": 3
      },
      "pygments_lexer": "ipython3",
      "nbconvert_exporter": "python",
      "file_extension": ".py"
    },
    "kaggle": {
      "accelerator": "none",
      "dataSources": [
        {
          "sourceId": 10211,
          "databundleVersionId": 111096,
          "sourceType": "competition"
        },
        {
          "sourceId": 15520,
          "sourceType": "datasetVersion",
          "datasetId": 11167
        },
        {
          "sourceId": 38454,
          "sourceType": "datasetVersion",
          "datasetId": 2709
        }
      ],
      "isInternetEnabled": false,
      "language": "python",
      "sourceType": "notebook",
      "isGpuEnabled": false
    },
    "colab": {
      "name": "Exercise: Your First Machine Learning Model",
      "provenance": []
    }
  },
  "nbformat_minor": 0,
  "nbformat": 4,
  "cells": [
    {
      "cell_type": "code",
      "source": [
        "# Nama : Jhose Immanuel Sembiring\n",
        "# NIM : 1103202047\n",
        "# Kelas : TK44G4\n",
        "# Intro To Machine Learning"
      ],
      "metadata": {
        "id": "OsHDWQc8uCSV"
      },
      "execution_count": null,
      "outputs": []
    },
    {
      "source": [
        "# IMPORTANT: RUN THIS CELL IN ORDER TO IMPORT YOUR KAGGLE DATA SOURCES\n",
        "# TO THE CORRECT LOCATION (/kaggle/input) IN YOUR NOTEBOOK,\n",
        "# THEN FEEL FREE TO DELETE THIS CELL.\n",
        "# NOTE: THIS NOTEBOOK ENVIRONMENT DIFFERS FROM KAGGLE'S PYTHON\n",
        "# ENVIRONMENT SO THERE MAY BE MISSING LIBRARIES USED BY YOUR\n",
        "# NOTEBOOK.\n",
        "\n",
        "import os\n",
        "import sys\n",
        "from tempfile import NamedTemporaryFile\n",
        "from urllib.request import urlopen\n",
        "from urllib.parse import unquote, urlparse\n",
        "from urllib.error import HTTPError\n",
        "from zipfile import ZipFile\n",
        "import tarfile\n",
        "import shutil\n",
        "\n",
        "CHUNK_SIZE = 40960\n",
        "DATA_SOURCE_MAPPING = 'home-data-for-ml-course:https%3A%2F%2Fstorage.googleapis.com%2Fkaggle-competitions-data%2Fkaggle-v2%2F10211%2F111096%2Fbundle%2Farchive.zip%3FX-Goog-Algorithm%3DGOOG4-RSA-SHA256%26X-Goog-Credential%3Dgcp-kaggle-com%2540kaggle-161607.iam.gserviceaccount.com%252F20240419%252Fauto%252Fstorage%252Fgoog4_request%26X-Goog-Date%3D20240419T093644Z%26X-Goog-Expires%3D259200%26X-Goog-SignedHeaders%3Dhost%26X-Goog-Signature%3Db1d73a4f0226a3aa216d98f9c75b904e69bd685d021a54b17baa3685ba514bf35335d035edbcea713d7aa27f49577175f25bf8fa1b8fd1fddb7d3aabaef404445bd68790fc4ea0c9275ab67b78de65d5b2b263a248f7dddc8780872901bbbc224f2af1c0889345ca8e23b55c88649e383cce67339f806cf07c783aeb06f426a01f1a25bcc7bef622b5335fa55ae5ca96d6b5c2542cecd791e0edbd821e7c5f7cd42ede7e4cf5c054b4e53266f1266fcb8cc367bb3748669cbbf939b4b1c7cf87f730d79e22c972bd4fc3888e95788b1e46a1861c86309726c5c46797b0c52f29f63928f52cd59fe6e17001cba7159212affa7506e698fbb2cbe672d395075aea,mobile-price-classification:https%3A%2F%2Fstorage.googleapis.com%2Fkaggle-data-sets%2F11167%2F15520%2Fbundle%2Farchive.zip%3FX-Goog-Algorithm%3DGOOG4-RSA-SHA256%26X-Goog-Credential%3Dgcp-kaggle-com%2540kaggle-161607.iam.gserviceaccount.com%252F20240419%252Fauto%252Fstorage%252Fgoog4_request%26X-Goog-Date%3D20240419T093644Z%26X-Goog-Expires%3D259200%26X-Goog-SignedHeaders%3Dhost%26X-Goog-Signature%3D1a84720c9cb02402ef19b3594aaae10a8aa00ab18e2bae1a03aa6d4cc2f46931e4e1d300afa31d8d8e74968d1a898ae77f04bfeb3df94f736c26dda37083deda2a5960e9b62d1c7d231bab99be4367a0b5617bc16fed2c001cb4b4d92d24490baeef97c4cda0942c840f6571118b43460cbbbb06868eb6e1d68626a2bf86efc1883c3c81ccec21105386dd6192975bd70fafc09fec10873f11a304d5452fdcc7540aae0c0b705aa1ca8a5fc1acfc56455aac1f4dd65bea1405612e46aadb154ff0aaef054f287cbb49cd324f34ddd789bfe6e2a311d46e28f7240a7a4f0fff3c5e414aed0b10331b591bd948ce44498403d5272a07b68ed4f3ff6db8c2007fc6,melbourne-housing-snapshot:https%3A%2F%2Fstorage.googleapis.com%2Fkaggle-data-sets%2F2709%2F38454%2Fbundle%2Farchive.zip%3FX-Goog-Algorithm%3DGOOG4-RSA-SHA256%26X-Goog-Credential%3Dgcp-kaggle-com%2540kaggle-161607.iam.gserviceaccount.com%252F20240419%252Fauto%252Fstorage%252Fgoog4_request%26X-Goog-Date%3D20240419T093645Z%26X-Goog-Expires%3D259200%26X-Goog-SignedHeaders%3Dhost%26X-Goog-Signature%3Da92080184d0f8ea61b11a21ecdcbd11698396556ab7c0f8cacb2000be4be322518498d7313f2497b9df8f1f24096d5651e86487696086866f2b58ed210d0470ff188d150051cc111bc7a26ee9c73c4f432f404458ebc83c8179a979b91efad8e94b57d472149e94e41b202a47e2fbb160d3e7f51d6543adfe661dd26964562a9bacd72d046e23823320cb7215882455e31e67edb1db3c6bc3a7d6f3986de30d00f2ddfcacfbe898db9f89e241e4893faf1f2ec59184429a79530afe31966312c9088339ba5db2a7a5e7f2b23908dcf1ca70ff66e9cb8fe141fcbfeed610ac34aef01c4fe97aec6a5ed38f49070f52a671430734a5cb6bef0c50615561ae60b3f'\n",
        "\n",
        "KAGGLE_INPUT_PATH='/kaggle/input'\n",
        "KAGGLE_WORKING_PATH='/kaggle/working'\n",
        "KAGGLE_SYMLINK='kaggle'\n",
        "\n",
        "!umount /kaggle/input/ 2> /dev/null\n",
        "shutil.rmtree('/kaggle/input', ignore_errors=True)\n",
        "os.makedirs(KAGGLE_INPUT_PATH, 0o777, exist_ok=True)\n",
        "os.makedirs(KAGGLE_WORKING_PATH, 0o777, exist_ok=True)\n",
        "\n",
        "try:\n",
        "  os.symlink(KAGGLE_INPUT_PATH, os.path.join(\"..\", 'input'), target_is_directory=True)\n",
        "except FileExistsError:\n",
        "  pass\n",
        "try:\n",
        "  os.symlink(KAGGLE_WORKING_PATH, os.path.join(\"..\", 'working'), target_is_directory=True)\n",
        "except FileExistsError:\n",
        "  pass\n",
        "\n",
        "for data_source_mapping in DATA_SOURCE_MAPPING.split(','):\n",
        "    directory, download_url_encoded = data_source_mapping.split(':')\n",
        "    download_url = unquote(download_url_encoded)\n",
        "    filename = urlparse(download_url).path\n",
        "    destination_path = os.path.join(KAGGLE_INPUT_PATH, directory)\n",
        "    try:\n",
        "        with urlopen(download_url) as fileres, NamedTemporaryFile() as tfile:\n",
        "            total_length = fileres.headers['content-length']\n",
        "            print(f'Downloading {directory}, {total_length} bytes compressed')\n",
        "            dl = 0\n",
        "            data = fileres.read(CHUNK_SIZE)\n",
        "            while len(data) > 0:\n",
        "                dl += len(data)\n",
        "                tfile.write(data)\n",
        "                done = int(50 * dl / int(total_length))\n",
        "                sys.stdout.write(f\"\\r[{'=' * done}{' ' * (50-done)}] {dl} bytes downloaded\")\n",
        "                sys.stdout.flush()\n",
        "                data = fileres.read(CHUNK_SIZE)\n",
        "            if filename.endswith('.zip'):\n",
        "              with ZipFile(tfile) as zfile:\n",
        "                zfile.extractall(destination_path)\n",
        "            else:\n",
        "              with tarfile.open(tfile.name) as tarfile:\n",
        "                tarfile.extractall(destination_path)\n",
        "            print(f'\\nDownloaded and uncompressed: {directory}')\n",
        "    except HTTPError as e:\n",
        "        print(f'Failed to load (likely expired) {download_url} to path {destination_path}')\n",
        "        continue\n",
        "    except OSError as e:\n",
        "        print(f'Failed to load {download_url} to path {destination_path}')\n",
        "        continue\n",
        "\n",
        "print('Data source import complete.')\n"
      ],
      "metadata": {
        "id": "_f06bJj5t_Kv"
      },
      "cell_type": "code",
      "outputs": [],
      "execution_count": null
    },
    {
      "cell_type": "markdown",
      "source": [
        "**This notebook is an exercise in the [Introduction to Machine Learning](https://www.kaggle.com/learn/intro-to-machine-learning) course.  You can reference the tutorial at [this link](https://www.kaggle.com/dansbecker/your-first-machine-learning-model).**\n",
        "\n",
        "---\n"
      ],
      "metadata": {
        "id": "y77Fes8kt_Kw"
      }
    },
    {
      "cell_type": "markdown",
      "source": [
        "## Recap\n",
        "So far, you have loaded your data and reviewed it with the following code. Run this cell to set up your coding environment where the previous step left off."
      ],
      "metadata": {
        "id": "sjz_pWeCt_Kx"
      }
    },
    {
      "cell_type": "code",
      "source": [
        "# Code you have previously used to load data\n",
        "import pandas as pd\n",
        "\n",
        "# Path of the file to read\n",
        "iowa_file_path = '../input/home-data-for-ml-course/train.csv'\n",
        "\n",
        "home_data = pd.read_csv(iowa_file_path)\n",
        "\n",
        "# Set up code checking\n",
        "from learntools.core import binder\n",
        "binder.bind(globals())\n",
        "from learntools.machine_learning.ex3 import *\n",
        "\n",
        "print(\"Setup Complete\")"
      ],
      "metadata": {
        "execution": {
          "iopub.status.busy": "2024-04-19T08:57:43.321684Z",
          "iopub.execute_input": "2024-04-19T08:57:43.322549Z",
          "iopub.status.idle": "2024-04-19T08:57:47.321819Z",
          "shell.execute_reply.started": "2024-04-19T08:57:43.322502Z",
          "shell.execute_reply": "2024-04-19T08:57:47.320493Z"
        },
        "trusted": true,
        "id": "KaHP8G1ut_Kx",
        "outputId": "704e0a92-cf09-4a7e-e511-52e042357628"
      },
      "execution_count": null,
      "outputs": [
        {
          "name": "stdout",
          "text": "Setup Complete\n",
          "output_type": "stream"
        }
      ]
    },
    {
      "cell_type": "markdown",
      "source": [
        "# Exercises\n",
        "\n",
        "## Step 1: Specify Prediction Target\n",
        "Select the target variable, which corresponds to the sales price. Save this to a new variable called `y`. You'll need to print a list of the columns to find the name of the column you need.\n"
      ],
      "metadata": {
        "id": "2c_kn9CFt_Ky"
      }
    },
    {
      "cell_type": "code",
      "source": [
        "# print the list of columns in the dataset to find the name of the prediction target\n",
        "home_data.columns"
      ],
      "metadata": {
        "execution": {
          "iopub.status.busy": "2024-04-19T08:58:08.387071Z",
          "iopub.execute_input": "2024-04-19T08:58:08.388117Z",
          "iopub.status.idle": "2024-04-19T08:58:08.399431Z",
          "shell.execute_reply.started": "2024-04-19T08:58:08.388068Z",
          "shell.execute_reply": "2024-04-19T08:58:08.398253Z"
        },
        "trusted": true,
        "id": "Vw3AVcsHt_Ky",
        "outputId": "f7c1fafe-922e-4301-82c5-7bfca4847c4a"
      },
      "execution_count": null,
      "outputs": [
        {
          "execution_count": 2,
          "output_type": "execute_result",
          "data": {
            "text/plain": "Index(['Id', 'MSSubClass', 'MSZoning', 'LotFrontage', 'LotArea', 'Street',\n       'Alley', 'LotShape', 'LandContour', 'Utilities', 'LotConfig',\n       'LandSlope', 'Neighborhood', 'Condition1', 'Condition2', 'BldgType',\n       'HouseStyle', 'OverallQual', 'OverallCond', 'YearBuilt', 'YearRemodAdd',\n       'RoofStyle', 'RoofMatl', 'Exterior1st', 'Exterior2nd', 'MasVnrType',\n       'MasVnrArea', 'ExterQual', 'ExterCond', 'Foundation', 'BsmtQual',\n       'BsmtCond', 'BsmtExposure', 'BsmtFinType1', 'BsmtFinSF1',\n       'BsmtFinType2', 'BsmtFinSF2', 'BsmtUnfSF', 'TotalBsmtSF', 'Heating',\n       'HeatingQC', 'CentralAir', 'Electrical', '1stFlrSF', '2ndFlrSF',\n       'LowQualFinSF', 'GrLivArea', 'BsmtFullBath', 'BsmtHalfBath', 'FullBath',\n       'HalfBath', 'BedroomAbvGr', 'KitchenAbvGr', 'KitchenQual',\n       'TotRmsAbvGrd', 'Functional', 'Fireplaces', 'FireplaceQu', 'GarageType',\n       'GarageYrBlt', 'GarageFinish', 'GarageCars', 'GarageArea', 'GarageQual',\n       'GarageCond', 'PavedDrive', 'WoodDeckSF', 'OpenPorchSF',\n       'EnclosedPorch', '3SsnPorch', 'ScreenPorch', 'PoolArea', 'PoolQC',\n       'Fence', 'MiscFeature', 'MiscVal', 'MoSold', 'YrSold', 'SaleType',\n       'SaleCondition', 'SalePrice'],\n      dtype='object')"
          },
          "metadata": {}
        }
      ]
    },
    {
      "cell_type": "code",
      "source": [
        "y = home_data.SalePrice\n",
        "\n",
        "# Check your answer\n",
        "step_1.check()"
      ],
      "metadata": {
        "execution": {
          "iopub.status.busy": "2024-04-19T08:58:36.420385Z",
          "iopub.execute_input": "2024-04-19T08:58:36.421595Z",
          "iopub.status.idle": "2024-04-19T08:58:36.442777Z",
          "shell.execute_reply.started": "2024-04-19T08:58:36.421541Z",
          "shell.execute_reply": "2024-04-19T08:58:36.44101Z"
        },
        "trusted": true,
        "id": "ZaEYK4Eyt_Ky",
        "outputId": "96b3c26f-27d2-411c-cc6c-ba4ee0ae9b62"
      },
      "execution_count": null,
      "outputs": [
        {
          "output_type": "display_data",
          "data": {
            "text/plain": "<IPython.core.display.Javascript object>",
            "application/javascript": "parent.postMessage({\"jupyterEvent\": \"custom.exercise_interaction\", \"data\": {\"outcomeType\": 1, \"valueTowardsCompletion\": 0.25, \"interactionType\": 1, \"questionType\": 2, \"questionId\": \"1_SetTarget\", \"learnToolsVersion\": \"0.3.4\", \"failureMessage\": \"\", \"exceptionClass\": \"\", \"trace\": \"\"}}, \"*\")"
          },
          "metadata": {}
        },
        {
          "output_type": "display_data",
          "data": {
            "text/plain": "Correct",
            "text/markdown": "<span style=\"color:#33cc33\">Correct</span>"
          },
          "metadata": {}
        }
      ]
    },
    {
      "cell_type": "code",
      "source": [
        "# The lines below will show you a hint or the solution.\n",
        "# step_1.hint()\n",
        "# step_1.solution()"
      ],
      "metadata": {
        "execution": {
          "iopub.status.busy": "2024-04-19T09:04:13.338041Z",
          "iopub.execute_input": "2024-04-19T09:04:13.339097Z",
          "iopub.status.idle": "2024-04-19T09:04:13.345352Z",
          "shell.execute_reply.started": "2024-04-19T09:04:13.339047Z",
          "shell.execute_reply": "2024-04-19T09:04:13.343605Z"
        },
        "trusted": true,
        "id": "uvzz_ipwt_Ky"
      },
      "execution_count": null,
      "outputs": []
    },
    {
      "cell_type": "markdown",
      "source": [
        "## Step 2: Create X\n",
        "Now you will create a DataFrame called `X` holding the predictive features.\n",
        "\n",
        "Since you want only some columns from the original data, you'll first create a list with the names of the columns you want in `X`.\n",
        "\n",
        "You'll use just the following columns in the list (you can copy and paste the whole list to save some typing, though you'll still need to add quotes):\n",
        "  * LotArea\n",
        "  * YearBuilt\n",
        "  * 1stFlrSF\n",
        "  * 2ndFlrSF\n",
        "  * FullBath\n",
        "  * BedroomAbvGr\n",
        "  * TotRmsAbvGrd\n",
        "\n",
        "After you've created that list of features, use it to create the DataFrame that you'll use to fit the model."
      ],
      "metadata": {
        "id": "i_G8JaIPt_Ky"
      }
    },
    {
      "cell_type": "code",
      "source": [
        "# Create the list of features below\n",
        "feature_names = ['LotArea', 'YearBuilt', '1stFlrSF', '2ndFlrSF', 'FullBath', 'BedroomAbvGr', 'TotRmsAbvGrd']\n",
        "\n",
        "# Select data corresponding to features in feature_names\n",
        "X = home_data[feature_names]\n",
        "\n",
        "# Check your answer\n",
        "step_2.check()"
      ],
      "metadata": {
        "execution": {
          "iopub.status.busy": "2024-04-19T08:59:22.02242Z",
          "iopub.execute_input": "2024-04-19T08:59:22.022989Z",
          "iopub.status.idle": "2024-04-19T08:59:22.040112Z",
          "shell.execute_reply.started": "2024-04-19T08:59:22.022945Z",
          "shell.execute_reply": "2024-04-19T08:59:22.03897Z"
        },
        "trusted": true,
        "id": "BOILfzu1t_Ky",
        "outputId": "46c4b6d3-95d5-48bf-f383-f1eb7eb9bf24"
      },
      "execution_count": null,
      "outputs": [
        {
          "output_type": "display_data",
          "data": {
            "text/plain": "<IPython.core.display.Javascript object>",
            "application/javascript": "parent.postMessage({\"jupyterEvent\": \"custom.exercise_interaction\", \"data\": {\"outcomeType\": 1, \"valueTowardsCompletion\": 0.25, \"interactionType\": 1, \"questionType\": 2, \"questionId\": \"2_SelectPredictionData\", \"learnToolsVersion\": \"0.3.4\", \"failureMessage\": \"\", \"exceptionClass\": \"\", \"trace\": \"\"}}, \"*\")"
          },
          "metadata": {}
        },
        {
          "output_type": "display_data",
          "data": {
            "text/plain": "Correct",
            "text/markdown": "<span style=\"color:#33cc33\">Correct</span>"
          },
          "metadata": {}
        }
      ]
    },
    {
      "cell_type": "code",
      "source": [
        "# step_2.hint()\n",
        "# step_2.solution()"
      ],
      "metadata": {
        "execution": {
          "iopub.status.busy": "2024-04-19T09:04:09.515605Z",
          "iopub.execute_input": "2024-04-19T09:04:09.517203Z",
          "iopub.status.idle": "2024-04-19T09:04:09.523353Z",
          "shell.execute_reply.started": "2024-04-19T09:04:09.517153Z",
          "shell.execute_reply": "2024-04-19T09:04:09.521969Z"
        },
        "trusted": true,
        "id": "ChINApwWt_Kz"
      },
      "execution_count": null,
      "outputs": []
    },
    {
      "cell_type": "markdown",
      "source": [
        "## Review Data\n",
        "Before building a model, take a quick look at **X** to verify it looks sensible"
      ],
      "metadata": {
        "id": "fiWughUHt_Kz"
      }
    },
    {
      "cell_type": "code",
      "source": [
        "# Review data\n",
        "# print description or statistics from X\n",
        "# print(X)\n",
        "X.describe()\n",
        "\n",
        "# print the top few lines\n",
        "# print(X.head())\n",
        "# X.Head()"
      ],
      "metadata": {
        "execution": {
          "iopub.status.busy": "2024-04-19T09:00:59.977064Z",
          "iopub.execute_input": "2024-04-19T09:00:59.978413Z",
          "iopub.status.idle": "2024-04-19T09:01:00.17526Z",
          "shell.execute_reply.started": "2024-04-19T09:00:59.978299Z",
          "shell.execute_reply": "2024-04-19T09:01:00.172963Z"
        },
        "trusted": true,
        "id": "ZJFqUIvLt_Kz",
        "outputId": "aa9af675-2491-4c3f-d940-052eef5c3106"
      },
      "execution_count": null,
      "outputs": [
        {
          "execution_count": 7,
          "output_type": "execute_result",
          "data": {
            "text/plain": "             LotArea    YearBuilt     1stFlrSF     2ndFlrSF     FullBath  \\\ncount    1460.000000  1460.000000  1460.000000  1460.000000  1460.000000   \nmean    10516.828082  1971.267808  1162.626712   346.992466     1.565068   \nstd      9981.264932    30.202904   386.587738   436.528436     0.550916   \nmin      1300.000000  1872.000000   334.000000     0.000000     0.000000   \n25%      7553.500000  1954.000000   882.000000     0.000000     1.000000   \n50%      9478.500000  1973.000000  1087.000000     0.000000     2.000000   \n75%     11601.500000  2000.000000  1391.250000   728.000000     2.000000   \nmax    215245.000000  2010.000000  4692.000000  2065.000000     3.000000   \n\n       BedroomAbvGr  TotRmsAbvGrd  \ncount   1460.000000   1460.000000  \nmean       2.866438      6.517808  \nstd        0.815778      1.625393  \nmin        0.000000      2.000000  \n25%        2.000000      5.000000  \n50%        3.000000      6.000000  \n75%        3.000000      7.000000  \nmax        8.000000     14.000000  ",
            "text/html": "<div>\n<style scoped>\n    .dataframe tbody tr th:only-of-type {\n        vertical-align: middle;\n    }\n\n    .dataframe tbody tr th {\n        vertical-align: top;\n    }\n\n    .dataframe thead th {\n        text-align: right;\n    }\n</style>\n<table border=\"1\" class=\"dataframe\">\n  <thead>\n    <tr style=\"text-align: right;\">\n      <th></th>\n      <th>LotArea</th>\n      <th>YearBuilt</th>\n      <th>1stFlrSF</th>\n      <th>2ndFlrSF</th>\n      <th>FullBath</th>\n      <th>BedroomAbvGr</th>\n      <th>TotRmsAbvGrd</th>\n    </tr>\n  </thead>\n  <tbody>\n    <tr>\n      <th>count</th>\n      <td>1460.000000</td>\n      <td>1460.000000</td>\n      <td>1460.000000</td>\n      <td>1460.000000</td>\n      <td>1460.000000</td>\n      <td>1460.000000</td>\n      <td>1460.000000</td>\n    </tr>\n    <tr>\n      <th>mean</th>\n      <td>10516.828082</td>\n      <td>1971.267808</td>\n      <td>1162.626712</td>\n      <td>346.992466</td>\n      <td>1.565068</td>\n      <td>2.866438</td>\n      <td>6.517808</td>\n    </tr>\n    <tr>\n      <th>std</th>\n      <td>9981.264932</td>\n      <td>30.202904</td>\n      <td>386.587738</td>\n      <td>436.528436</td>\n      <td>0.550916</td>\n      <td>0.815778</td>\n      <td>1.625393</td>\n    </tr>\n    <tr>\n      <th>min</th>\n      <td>1300.000000</td>\n      <td>1872.000000</td>\n      <td>334.000000</td>\n      <td>0.000000</td>\n      <td>0.000000</td>\n      <td>0.000000</td>\n      <td>2.000000</td>\n    </tr>\n    <tr>\n      <th>25%</th>\n      <td>7553.500000</td>\n      <td>1954.000000</td>\n      <td>882.000000</td>\n      <td>0.000000</td>\n      <td>1.000000</td>\n      <td>2.000000</td>\n      <td>5.000000</td>\n    </tr>\n    <tr>\n      <th>50%</th>\n      <td>9478.500000</td>\n      <td>1973.000000</td>\n      <td>1087.000000</td>\n      <td>0.000000</td>\n      <td>2.000000</td>\n      <td>3.000000</td>\n      <td>6.000000</td>\n    </tr>\n    <tr>\n      <th>75%</th>\n      <td>11601.500000</td>\n      <td>2000.000000</td>\n      <td>1391.250000</td>\n      <td>728.000000</td>\n      <td>2.000000</td>\n      <td>3.000000</td>\n      <td>7.000000</td>\n    </tr>\n    <tr>\n      <th>max</th>\n      <td>215245.000000</td>\n      <td>2010.000000</td>\n      <td>4692.000000</td>\n      <td>2065.000000</td>\n      <td>3.000000</td>\n      <td>8.000000</td>\n      <td>14.000000</td>\n    </tr>\n  </tbody>\n</table>\n</div>"
          },
          "metadata": {}
        }
      ]
    },
    {
      "cell_type": "markdown",
      "source": [
        "## Step 3: Specify and Fit Model\n",
        "Create a `DecisionTreeRegressor` and save it iowa_model. Ensure you've done the relevant import from sklearn to run this command.\n",
        "\n",
        "Then fit the model you just created using the data in `X` and `y` that you saved above."
      ],
      "metadata": {
        "id": "GCRVnmwqt_Kz"
      }
    },
    {
      "cell_type": "code",
      "source": [
        "from sklearn.tree import DecisionTreeRegressor\n",
        "#specify the model.\n",
        "#For model reproducibility, set a numeric value for random_state when specifying the model\n",
        "iowa_model = DecisionTreeRegressor(random_state=1)\n",
        "\n",
        "# Fit the model\n",
        "iowa_model.fit(X, y)\n",
        "\n",
        "# Check your answer\n",
        "step_3.check()"
      ],
      "metadata": {
        "execution": {
          "iopub.status.busy": "2024-04-19T09:01:44.975118Z",
          "iopub.execute_input": "2024-04-19T09:01:44.975621Z",
          "iopub.status.idle": "2024-04-19T09:01:45.001454Z",
          "shell.execute_reply.started": "2024-04-19T09:01:44.975584Z",
          "shell.execute_reply": "2024-04-19T09:01:45.000075Z"
        },
        "trusted": true,
        "id": "x4SZPXfRt_Kz",
        "outputId": "e4e4adbf-b64d-43ca-f753-b5d212add63f"
      },
      "execution_count": null,
      "outputs": [
        {
          "output_type": "display_data",
          "data": {
            "text/plain": "<IPython.core.display.Javascript object>",
            "application/javascript": "parent.postMessage({\"jupyterEvent\": \"custom.exercise_interaction\", \"data\": {\"outcomeType\": 1, \"valueTowardsCompletion\": 0.25, \"interactionType\": 1, \"questionType\": 2, \"questionId\": \"3_CreateModel\", \"learnToolsVersion\": \"0.3.4\", \"failureMessage\": \"\", \"exceptionClass\": \"\", \"trace\": \"\"}}, \"*\")"
          },
          "metadata": {}
        },
        {
          "output_type": "display_data",
          "data": {
            "text/plain": "Correct",
            "text/markdown": "<span style=\"color:#33cc33\">Correct</span>"
          },
          "metadata": {}
        }
      ]
    },
    {
      "cell_type": "code",
      "source": [
        "# step_3.hint()\n",
        "# step_3.solution()"
      ],
      "metadata": {
        "execution": {
          "iopub.status.busy": "2024-04-19T09:03:47.051593Z",
          "iopub.execute_input": "2024-04-19T09:03:47.052141Z",
          "iopub.status.idle": "2024-04-19T09:03:47.058857Z",
          "shell.execute_reply.started": "2024-04-19T09:03:47.052097Z",
          "shell.execute_reply": "2024-04-19T09:03:47.05751Z"
        },
        "trusted": true,
        "id": "AlPizHTOt_Kz"
      },
      "execution_count": null,
      "outputs": []
    },
    {
      "cell_type": "markdown",
      "source": [
        "## Step 4: Make Predictions\n",
        "Make predictions with the model's `predict` command using `X` as the data. Save the results to a variable called `predictions`."
      ],
      "metadata": {
        "id": "ZP1RAsNft_Kz"
      }
    },
    {
      "cell_type": "code",
      "source": [
        "predictions = iowa_model.predict(X)\n",
        "print(predictions)\n",
        "\n",
        "# Check your answer\n",
        "step_4.check()"
      ],
      "metadata": {
        "execution": {
          "iopub.status.busy": "2024-04-19T09:03:01.537189Z",
          "iopub.execute_input": "2024-04-19T09:03:01.537817Z",
          "iopub.status.idle": "2024-04-19T09:03:01.560012Z",
          "shell.execute_reply.started": "2024-04-19T09:03:01.53777Z",
          "shell.execute_reply": "2024-04-19T09:03:01.558592Z"
        },
        "trusted": true,
        "id": "_ZbXFMFit_Kz",
        "outputId": "c8d3cf61-f357-4fb9-d5af-c54ab42eb592"
      },
      "execution_count": null,
      "outputs": [
        {
          "name": "stdout",
          "text": "[208500. 181500. 223500. ... 266500. 142125. 147500.]\n",
          "output_type": "stream"
        },
        {
          "output_type": "display_data",
          "data": {
            "text/plain": "<IPython.core.display.Javascript object>",
            "application/javascript": "parent.postMessage({\"jupyterEvent\": \"custom.exercise_interaction\", \"data\": {\"outcomeType\": 1, \"valueTowardsCompletion\": 0.25, \"interactionType\": 1, \"questionType\": 2, \"questionId\": \"4_MakePredictions\", \"learnToolsVersion\": \"0.3.4\", \"failureMessage\": \"\", \"exceptionClass\": \"\", \"trace\": \"\"}}, \"*\")"
          },
          "metadata": {}
        },
        {
          "output_type": "display_data",
          "data": {
            "text/plain": "Correct",
            "text/markdown": "<span style=\"color:#33cc33\">Correct</span>"
          },
          "metadata": {}
        }
      ]
    },
    {
      "cell_type": "code",
      "source": [
        "# step_4.hint()\n",
        "# step_4.solution()"
      ],
      "metadata": {
        "execution": {
          "iopub.status.busy": "2024-04-19T09:04:00.055531Z",
          "iopub.execute_input": "2024-04-19T09:04:00.056242Z",
          "iopub.status.idle": "2024-04-19T09:04:00.061667Z",
          "shell.execute_reply.started": "2024-04-19T09:04:00.056202Z",
          "shell.execute_reply": "2024-04-19T09:04:00.060467Z"
        },
        "trusted": true,
        "id": "aAG_u6mjt_Kz"
      },
      "execution_count": null,
      "outputs": []
    },
    {
      "cell_type": "markdown",
      "source": [
        "## Think About Your Results\n",
        "\n",
        "Use the `head` method to compare the top few predictions to the actual home values (in `y`) for those same homes. Anything surprising?\n"
      ],
      "metadata": {
        "id": "W6r--MQSt_Kz"
      }
    },
    {
      "cell_type": "code",
      "source": [
        "# You can write code in this cell\n"
      ],
      "metadata": {
        "id": "JNqVfiQ2t_Kz"
      },
      "execution_count": null,
      "outputs": []
    },
    {
      "cell_type": "markdown",
      "source": [
        "It's natural to ask how accurate the model's predictions will be and how you can improve that. That will be you're next step.\n",
        "\n",
        "# Keep Going\n",
        "\n",
        "You are ready for **[Model Validation](https://www.kaggle.com/dansbecker/model-validation).**\n"
      ],
      "metadata": {
        "id": "Hg1eJZQdt_K0"
      }
    },
    {
      "cell_type": "markdown",
      "source": [
        "---\n",
        "\n",
        "\n",
        "\n",
        "\n",
        "*Have questions or comments? Visit the [course discussion forum](https://www.kaggle.com/learn/intro-to-machine-learning/discussion) to chat with other learners.*"
      ],
      "metadata": {
        "id": "xtmeCX6Et_K0"
      }
    }
  ]
}