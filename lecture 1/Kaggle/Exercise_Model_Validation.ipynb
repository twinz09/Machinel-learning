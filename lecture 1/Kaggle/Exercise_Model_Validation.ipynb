{
  "metadata": {
    "kernelspec": {
      "display_name": "Python 3",
      "language": "python",
      "name": "python3"
    },
    "language_info": {
      "name": "python",
      "version": "3.10.13",
      "mimetype": "text/x-python",
      "codemirror_mode": {
        "name": "ipython",
        "version": 3
      },
      "pygments_lexer": "ipython3",
      "nbconvert_exporter": "python",
      "file_extension": ".py"
    },
    "kaggle": {
      "accelerator": "none",
      "dataSources": [
        {
          "sourceId": 10211,
          "databundleVersionId": 111096,
          "sourceType": "competition"
        },
        {
          "sourceId": 15520,
          "sourceType": "datasetVersion",
          "datasetId": 11167
        },
        {
          "sourceId": 38454,
          "sourceType": "datasetVersion",
          "datasetId": 2709
        }
      ],
      "isInternetEnabled": false,
      "language": "python",
      "sourceType": "notebook",
      "isGpuEnabled": false
    },
    "colab": {
      "name": "Exercise: Model Validation",
      "provenance": []
    }
  },
  "nbformat_minor": 0,
  "nbformat": 4,
  "cells": [
    {
      "cell_type": "code",
      "source": [
        "# Nama : Jhose Immanuel Sembiring\n",
        "# NIM : 1103202047\n",
        "# Kelas : TK44G4\n",
        "# Intro To Machine Learning"
      ],
      "metadata": {
        "id": "YiJMQ-_JuNSK"
      },
      "execution_count": null,
      "outputs": []
    },
    {
      "source": [
        "# IMPORTANT: RUN THIS CELL IN ORDER TO IMPORT YOUR KAGGLE DATA SOURCES\n",
        "# TO THE CORRECT LOCATION (/kaggle/input) IN YOUR NOTEBOOK,\n",
        "# THEN FEEL FREE TO DELETE THIS CELL.\n",
        "# NOTE: THIS NOTEBOOK ENVIRONMENT DIFFERS FROM KAGGLE'S PYTHON\n",
        "# ENVIRONMENT SO THERE MAY BE MISSING LIBRARIES USED BY YOUR\n",
        "# NOTEBOOK.\n",
        "\n",
        "import os\n",
        "import sys\n",
        "from tempfile import NamedTemporaryFile\n",
        "from urllib.request import urlopen\n",
        "from urllib.parse import unquote, urlparse\n",
        "from urllib.error import HTTPError\n",
        "from zipfile import ZipFile\n",
        "import tarfile\n",
        "import shutil\n",
        "\n",
        "CHUNK_SIZE = 40960\n",
        "DATA_SOURCE_MAPPING = 'home-data-for-ml-course:https%3A%2F%2Fstorage.googleapis.com%2Fkaggle-competitions-data%2Fkaggle-v2%2F10211%2F111096%2Fbundle%2Farchive.zip%3FX-Goog-Algorithm%3DGOOG4-RSA-SHA256%26X-Goog-Credential%3Dgcp-kaggle-com%2540kaggle-161607.iam.gserviceaccount.com%252F20240419%252Fauto%252Fstorage%252Fgoog4_request%26X-Goog-Date%3D20240419T093730Z%26X-Goog-Expires%3D259200%26X-Goog-SignedHeaders%3Dhost%26X-Goog-Signature%3D9229ca49f84485fcd4842be19a70c74e4dbb4c1ff474fb76fc32f9f86e049ef9ef1b5a0b61e6ef6b77b45752a6dd2d735f039b5fdd1619bc10cf18088d4037e97b1b00e924ac790970d85155a3011e90585f3b376c85ee8bfa9bfcef8dafb9c4984e9a704705e2d7405cb2fdff4ffab93fad5d81d8912445ed9477b8b206b526eeb7c32a2fdfd2c8031be4a5a3f8dd8ba1e7639e10898fd1bc44f36151c9eb066730627505e81c9ae2f36d26e60f927746db6a3f111026ece58b30dff4237d8d393b72385ee551202976da9a7b78d34b90df21fc59b892a84603048c3473918d11fe6b550a7b8c75ed636b99fa4d2c86993d7bd0edb7bd4b5f49f5d99730b480,mobile-price-classification:https%3A%2F%2Fstorage.googleapis.com%2Fkaggle-data-sets%2F11167%2F15520%2Fbundle%2Farchive.zip%3FX-Goog-Algorithm%3DGOOG4-RSA-SHA256%26X-Goog-Credential%3Dgcp-kaggle-com%2540kaggle-161607.iam.gserviceaccount.com%252F20240419%252Fauto%252Fstorage%252Fgoog4_request%26X-Goog-Date%3D20240419T093730Z%26X-Goog-Expires%3D259200%26X-Goog-SignedHeaders%3Dhost%26X-Goog-Signature%3D736ccd63e2c865f05ee342d80540b3a480d49b0ff65788f4c38477a2133ec814b81a4e5522ea8ca16606a076d7f756373a60d814843cd867e377de63111981d248551d282cfa913da11788fceecc9410a6b76ca56b3535901d3d742f297ac5e8b72c3359aff545d8a48ee9c35337bec36bcd64ac5abfa00d612041d5ef20f36739b6ff76e9c7240950b5cf6688174c3bc0e461c2d4639859796560a4e0f164d35634dc4ee8b28474c183708f05b45a34dcb104b730ea194cf0e1ae4b705f412e65fcc8ab9cd8e329b7bc2149ff4ba21b425d1067149fb970cbe5e975c89603f128806f8ce36608107750758ad16ff8765be62e020e1d74332c07736459037633,melbourne-housing-snapshot:https%3A%2F%2Fstorage.googleapis.com%2Fkaggle-data-sets%2F2709%2F38454%2Fbundle%2Farchive.zip%3FX-Goog-Algorithm%3DGOOG4-RSA-SHA256%26X-Goog-Credential%3Dgcp-kaggle-com%2540kaggle-161607.iam.gserviceaccount.com%252F20240419%252Fauto%252Fstorage%252Fgoog4_request%26X-Goog-Date%3D20240419T093730Z%26X-Goog-Expires%3D259200%26X-Goog-SignedHeaders%3Dhost%26X-Goog-Signature%3Dac9b041bb9beeb29d9758da7ca9c1b6a74e4ca72f961646c8a1ae7a7201e913deccccdef3863732bd5521c5670f46567d91124ef63dc03a51318c7aa775e3c339ad530743b0d073a8bec367c9927cacdb19a8b37811a3e837d2f42b2b96be83e8b115aab2ca33d1a0f2b521606c339a48ddfb9d8f2141d28b825ac823fe59e1b657880f8e2bd1729a6f256933c616374f4203ea13168685370994ebdf94d41f2f66275f7e7cc0925ab041aba47d3d3d92456909057ba1eb157974f8b2994206fd27855ac762e68a0b1f22560125c93e6ad43624fd5951c0a0e59c7d5064553e957463f21d8421446dd517cbf6f973ddfd458cc328e8eb26e569cd3a17ea8a7a4'\n",
        "\n",
        "KAGGLE_INPUT_PATH='/kaggle/input'\n",
        "KAGGLE_WORKING_PATH='/kaggle/working'\n",
        "KAGGLE_SYMLINK='kaggle'\n",
        "\n",
        "!umount /kaggle/input/ 2> /dev/null\n",
        "shutil.rmtree('/kaggle/input', ignore_errors=True)\n",
        "os.makedirs(KAGGLE_INPUT_PATH, 0o777, exist_ok=True)\n",
        "os.makedirs(KAGGLE_WORKING_PATH, 0o777, exist_ok=True)\n",
        "\n",
        "try:\n",
        "  os.symlink(KAGGLE_INPUT_PATH, os.path.join(\"..\", 'input'), target_is_directory=True)\n",
        "except FileExistsError:\n",
        "  pass\n",
        "try:\n",
        "  os.symlink(KAGGLE_WORKING_PATH, os.path.join(\"..\", 'working'), target_is_directory=True)\n",
        "except FileExistsError:\n",
        "  pass\n",
        "\n",
        "for data_source_mapping in DATA_SOURCE_MAPPING.split(','):\n",
        "    directory, download_url_encoded = data_source_mapping.split(':')\n",
        "    download_url = unquote(download_url_encoded)\n",
        "    filename = urlparse(download_url).path\n",
        "    destination_path = os.path.join(KAGGLE_INPUT_PATH, directory)\n",
        "    try:\n",
        "        with urlopen(download_url) as fileres, NamedTemporaryFile() as tfile:\n",
        "            total_length = fileres.headers['content-length']\n",
        "            print(f'Downloading {directory}, {total_length} bytes compressed')\n",
        "            dl = 0\n",
        "            data = fileres.read(CHUNK_SIZE)\n",
        "            while len(data) > 0:\n",
        "                dl += len(data)\n",
        "                tfile.write(data)\n",
        "                done = int(50 * dl / int(total_length))\n",
        "                sys.stdout.write(f\"\\r[{'=' * done}{' ' * (50-done)}] {dl} bytes downloaded\")\n",
        "                sys.stdout.flush()\n",
        "                data = fileres.read(CHUNK_SIZE)\n",
        "            if filename.endswith('.zip'):\n",
        "              with ZipFile(tfile) as zfile:\n",
        "                zfile.extractall(destination_path)\n",
        "            else:\n",
        "              with tarfile.open(tfile.name) as tarfile:\n",
        "                tarfile.extractall(destination_path)\n",
        "            print(f'\\nDownloaded and uncompressed: {directory}')\n",
        "    except HTTPError as e:\n",
        "        print(f'Failed to load (likely expired) {download_url} to path {destination_path}')\n",
        "        continue\n",
        "    except OSError as e:\n",
        "        print(f'Failed to load {download_url} to path {destination_path}')\n",
        "        continue\n",
        "\n",
        "print('Data source import complete.')\n"
      ],
      "metadata": {
        "id": "fr8vmbs_uKF8"
      },
      "cell_type": "code",
      "outputs": [],
      "execution_count": null
    },
    {
      "cell_type": "markdown",
      "source": [
        "**This notebook is an exercise in the [Introduction to Machine Learning](https://www.kaggle.com/learn/intro-to-machine-learning) course.  You can reference the tutorial at [this link](https://www.kaggle.com/dansbecker/model-validation).**\n",
        "\n",
        "---\n"
      ],
      "metadata": {
        "id": "zGmmaJ20uKF-"
      }
    },
    {
      "cell_type": "markdown",
      "source": [
        "## Recap\n",
        "You've built a model. In this exercise you will test how good your model is.\n",
        "\n",
        "Run the cell below to set up your coding environment where the previous exercise left off."
      ],
      "metadata": {
        "id": "TlUVRb2suKF_"
      }
    },
    {
      "cell_type": "code",
      "source": [
        "# Code you have previously used to load data\n",
        "import pandas as pd\n",
        "from sklearn.tree import DecisionTreeRegressor\n",
        "\n",
        "# Path of the file to read\n",
        "iowa_file_path = '../input/home-data-for-ml-course/train.csv'\n",
        "\n",
        "home_data = pd.read_csv(iowa_file_path)\n",
        "y = home_data.SalePrice\n",
        "feature_columns = ['LotArea', 'YearBuilt', '1stFlrSF', '2ndFlrSF', 'FullBath', 'BedroomAbvGr', 'TotRmsAbvGrd']\n",
        "X = home_data[feature_columns]\n",
        "\n",
        "# Specify Model\n",
        "iowa_model = DecisionTreeRegressor()\n",
        "# Fit Model\n",
        "iowa_model.fit(X, y)\n",
        "\n",
        "print(\"First in-sample predictions:\", iowa_model.predict(X.head()))\n",
        "print(\"Actual target values for those homes:\", y.head().tolist())\n",
        "\n",
        "# Set up code checking\n",
        "from learntools.core import binder\n",
        "binder.bind(globals())\n",
        "from learntools.machine_learning.ex4 import *\n",
        "print(\"Setup Complete\")"
      ],
      "metadata": {
        "execution": {
          "iopub.status.busy": "2024-04-19T09:05:31.588758Z",
          "iopub.execute_input": "2024-04-19T09:05:31.591072Z",
          "iopub.status.idle": "2024-04-19T09:05:34.814841Z",
          "shell.execute_reply.started": "2024-04-19T09:05:31.591031Z",
          "shell.execute_reply": "2024-04-19T09:05:34.813668Z"
        },
        "trusted": true,
        "id": "_K33HQOZuKF_",
        "outputId": "39e5d161-001f-4600-dd9e-bdfeb21255d5"
      },
      "execution_count": null,
      "outputs": [
        {
          "name": "stdout",
          "text": "First in-sample predictions: [208500. 181500. 223500. 140000. 250000.]\nActual target values for those homes: [208500, 181500, 223500, 140000, 250000]\nSetup Complete\n",
          "output_type": "stream"
        }
      ]
    },
    {
      "cell_type": "markdown",
      "source": [
        "# Exercises\n",
        "\n",
        "## Step 1: Split Your Data\n",
        "Use the `train_test_split` function to split up your data.\n",
        "\n",
        "Give it the argument `random_state=1` so the `check` functions know what to expect when verifying your code.\n",
        "\n",
        "Recall, your features are loaded in the DataFrame **X** and your target is loaded in **y**.\n"
      ],
      "metadata": {
        "id": "hnSrM5q9uKGA"
      }
    },
    {
      "cell_type": "code",
      "source": [
        "# Import the train_test_split function and uncomment\n",
        "from sklearn.model_selection import train_test_split\n",
        "\n",
        "# fill in and uncomment\n",
        "train_X, val_X, train_y, val_y = train_test_split(X, y, random_state=1)\n",
        "\n",
        "# Check your answer\n",
        "step_1.check()"
      ],
      "metadata": {
        "execution": {
          "iopub.status.busy": "2024-04-19T09:06:10.43292Z",
          "iopub.execute_input": "2024-04-19T09:06:10.433994Z",
          "iopub.status.idle": "2024-04-19T09:06:10.454064Z",
          "shell.execute_reply.started": "2024-04-19T09:06:10.433957Z",
          "shell.execute_reply": "2024-04-19T09:06:10.452828Z"
        },
        "trusted": true,
        "id": "SVtfAgyDuKGA",
        "outputId": "00a479c5-ba46-4621-925d-412dec5ce55b"
      },
      "execution_count": null,
      "outputs": [
        {
          "output_type": "display_data",
          "data": {
            "text/plain": "<IPython.core.display.Javascript object>",
            "application/javascript": "parent.postMessage({\"jupyterEvent\": \"custom.exercise_interaction\", \"data\": {\"outcomeType\": 1, \"valueTowardsCompletion\": 0.25, \"interactionType\": 1, \"questionType\": 2, \"questionId\": \"1_SplitData\", \"learnToolsVersion\": \"0.3.4\", \"failureMessage\": \"\", \"exceptionClass\": \"\", \"trace\": \"\"}}, \"*\")"
          },
          "metadata": {}
        },
        {
          "output_type": "display_data",
          "data": {
            "text/plain": "Correct",
            "text/markdown": "<span style=\"color:#33cc33\">Correct</span>"
          },
          "metadata": {}
        }
      ]
    },
    {
      "cell_type": "code",
      "source": [
        "# The lines below will show you a hint or the solution.\n",
        "# step_1.hint()\n",
        "# step_1.solution()\n"
      ],
      "metadata": {
        "execution": {
          "iopub.status.busy": "2024-04-19T09:06:19.193927Z",
          "iopub.execute_input": "2024-04-19T09:06:19.19432Z",
          "iopub.status.idle": "2024-04-19T09:06:19.199741Z",
          "shell.execute_reply.started": "2024-04-19T09:06:19.194291Z",
          "shell.execute_reply": "2024-04-19T09:06:19.198462Z"
        },
        "trusted": true,
        "id": "x6BR4FBJuKGA"
      },
      "execution_count": null,
      "outputs": []
    },
    {
      "cell_type": "markdown",
      "source": [
        "## Step 2: Specify and Fit the Model\n",
        "\n",
        "Create a `DecisionTreeRegressor` model and fit it to the relevant data.\n",
        "Set `random_state` to 1 again when creating the model."
      ],
      "metadata": {
        "id": "ZRYoHlBYuKGA"
      }
    },
    {
      "cell_type": "code",
      "source": [
        "# You imported DecisionTreeRegressor in your last exercise\n",
        "# and that code has been copied to the setup code above. So, no need to\n",
        "# import it again\n",
        "\n",
        "# Specify the model\n",
        "iowa_model = DecisionTreeRegressor(random_state=1)\n",
        "\n",
        "# Fit iowa_model with the training data.\n",
        "iowa_model.fit(train_X, train_y)\n",
        "\n",
        "# Check your answer\n",
        "step_2.check()"
      ],
      "metadata": {
        "execution": {
          "iopub.status.busy": "2024-04-19T09:07:02.567807Z",
          "iopub.execute_input": "2024-04-19T09:07:02.568218Z",
          "iopub.status.idle": "2024-04-19T09:07:02.599533Z",
          "shell.execute_reply.started": "2024-04-19T09:07:02.568186Z",
          "shell.execute_reply": "2024-04-19T09:07:02.598285Z"
        },
        "trusted": true,
        "id": "_JJPsqWEuKGB",
        "outputId": "8bd80a9f-6f7e-49e4-9f85-d0aa63166b6f"
      },
      "execution_count": null,
      "outputs": [
        {
          "name": "stdout",
          "text": "[186500. 184000. 130000.  92000. 164500. 220000. 335000. 144152. 215000.\n 262000.]\n[186500. 184000. 130000.  92000. 164500. 220000. 335000. 144152. 215000.\n 262000.]\n",
          "output_type": "stream"
        },
        {
          "output_type": "display_data",
          "data": {
            "text/plain": "<IPython.core.display.Javascript object>",
            "application/javascript": "parent.postMessage({\"jupyterEvent\": \"custom.exercise_interaction\", \"data\": {\"outcomeType\": 1, \"valueTowardsCompletion\": 0.25, \"interactionType\": 1, \"questionType\": 2, \"questionId\": \"2_FitModelWithTrain\", \"learnToolsVersion\": \"0.3.4\", \"failureMessage\": \"\", \"exceptionClass\": \"\", \"trace\": \"\"}}, \"*\")"
          },
          "metadata": {}
        },
        {
          "output_type": "display_data",
          "data": {
            "text/plain": "Correct",
            "text/markdown": "<span style=\"color:#33cc33\">Correct</span>"
          },
          "metadata": {}
        }
      ]
    },
    {
      "cell_type": "code",
      "source": [
        "# step_2.hint()\n",
        "# step_2.solution()"
      ],
      "metadata": {
        "execution": {
          "iopub.status.busy": "2024-04-19T09:07:07.946497Z",
          "iopub.execute_input": "2024-04-19T09:07:07.946894Z",
          "iopub.status.idle": "2024-04-19T09:07:07.952005Z",
          "shell.execute_reply.started": "2024-04-19T09:07:07.946865Z",
          "shell.execute_reply": "2024-04-19T09:07:07.950638Z"
        },
        "trusted": true,
        "id": "Jsz_t7aGuKGB"
      },
      "execution_count": null,
      "outputs": []
    },
    {
      "cell_type": "markdown",
      "source": [
        "## Step 3: Make Predictions with Validation data\n"
      ],
      "metadata": {
        "id": "yt3YR5VhuKGB"
      }
    },
    {
      "cell_type": "code",
      "source": [
        "# Predict with all validation observations\n",
        "val_predictions = iowa_model.predict(val_X)\n",
        "\n",
        "# Check your answer\n",
        "step_3.check()"
      ],
      "metadata": {
        "execution": {
          "iopub.status.busy": "2024-04-19T09:07:42.251666Z",
          "iopub.execute_input": "2024-04-19T09:07:42.252088Z",
          "iopub.status.idle": "2024-04-19T09:07:42.267872Z",
          "shell.execute_reply.started": "2024-04-19T09:07:42.252056Z",
          "shell.execute_reply": "2024-04-19T09:07:42.266707Z"
        },
        "trusted": true,
        "id": "u0JYW4aluKGB",
        "outputId": "440f745f-4f24-434c-b4b0-ade6e0f4dc90"
      },
      "execution_count": null,
      "outputs": [
        {
          "output_type": "display_data",
          "data": {
            "text/plain": "<IPython.core.display.Javascript object>",
            "application/javascript": "parent.postMessage({\"jupyterEvent\": \"custom.exercise_interaction\", \"data\": {\"outcomeType\": 1, \"valueTowardsCompletion\": 0.25, \"interactionType\": 1, \"questionType\": 2, \"questionId\": \"3_ValPreds\", \"learnToolsVersion\": \"0.3.4\", \"failureMessage\": \"\", \"exceptionClass\": \"\", \"trace\": \"\"}}, \"*\")"
          },
          "metadata": {}
        },
        {
          "output_type": "display_data",
          "data": {
            "text/plain": "Correct",
            "text/markdown": "<span style=\"color:#33cc33\">Correct</span>"
          },
          "metadata": {}
        }
      ]
    },
    {
      "cell_type": "code",
      "source": [
        "# step_3.hint()\n",
        "# step_3.solution()"
      ],
      "metadata": {
        "execution": {
          "iopub.status.busy": "2024-04-19T09:07:46.674468Z",
          "iopub.execute_input": "2024-04-19T09:07:46.674848Z",
          "iopub.status.idle": "2024-04-19T09:07:46.679497Z",
          "shell.execute_reply.started": "2024-04-19T09:07:46.674819Z",
          "shell.execute_reply": "2024-04-19T09:07:46.678329Z"
        },
        "trusted": true,
        "id": "MjAJO-GWuKGB"
      },
      "execution_count": null,
      "outputs": []
    },
    {
      "cell_type": "markdown",
      "source": [
        "Inspect your predictions and actual values from validation data."
      ],
      "metadata": {
        "id": "AFfWR901uKGB"
      }
    },
    {
      "cell_type": "code",
      "source": [
        "# print the top few validation predictions\n",
        "print(val_predictions)\n",
        "# print the top few actual prices from validation data\n",
        "print(val_y)"
      ],
      "metadata": {
        "execution": {
          "iopub.status.busy": "2024-04-19T09:08:40.051915Z",
          "iopub.execute_input": "2024-04-19T09:08:40.052312Z",
          "iopub.status.idle": "2024-04-19T09:08:40.065006Z",
          "shell.execute_reply.started": "2024-04-19T09:08:40.05228Z",
          "shell.execute_reply": "2024-04-19T09:08:40.064032Z"
        },
        "trusted": true,
        "id": "8gyvFQuJuKGB",
        "outputId": "0868494a-4372-4e5f-81a2-c96c922ed491"
      },
      "execution_count": null,
      "outputs": [
        {
          "name": "stdout",
          "text": "[186500. 184000. 130000.  92000. 164500. 220000. 335000. 144152. 215000.\n 262000. 180000. 121000. 175900. 210000. 248900. 131000. 100000. 149350.\n 235000. 156000. 149900. 265979. 193500. 377500. 100000. 162900. 145000.\n 180000. 582933. 146000. 140000.  91500. 112500. 113000. 145000. 312500.\n 110000. 132000. 305000. 128000. 162900. 115000. 110000. 124000. 215200.\n 180000.  79000. 192000. 282922. 235000. 132000. 325000.  80000. 237000.\n 208300. 100000. 120500. 162000. 153000. 187000. 185750. 335000. 129000.\n 124900. 185750. 133700. 127000. 230000. 146800. 157900. 136000. 153575.\n 335000. 177500. 143000. 202500. 168500. 105000. 305900. 192000. 190000.\n 140200. 134900. 128950. 213000. 108959. 149500. 190000. 175900. 160000.\n 250580. 157000. 120500. 147500. 118000. 117000. 110000. 130000. 148500.\n 148000. 190000. 130500. 127000. 120500. 135000. 168000. 176432. 128000.\n 147000. 260000. 132000. 129500. 171000. 181134. 227875. 189000. 282922.\n  94750. 185000. 194000. 159000. 279500. 290000. 135000. 299800. 165000.\n 394432. 135750. 155000. 212000. 310000. 134800.  84000. 122900.  80000.\n 191000. 755000. 147000. 248000. 106500. 145000. 359100. 145000. 192500.\n 149000. 252000. 109000. 215000. 220000. 138500. 185000. 185000. 120500.\n 181000. 173000. 335000.  67000. 149350.  67000. 156000. 119000. 110500.\n 184000. 147000. 156000. 171000. 177000. 159000. 125000. 105000. 284000.\n 167500. 200000. 312500. 213000. 135960. 205000. 237000. 107000. 163000.\n 132500. 155835. 165500. 138500. 257000. 160000. 394617. 281213. 161000.\n 127500.  88000. 139000.  89500. 132500. 134800. 335000. 248900. 155000.\n 147000.  86000. 185000. 200000. 180500. 215200. 319900. 105000. 194000.\n 340000. 256000. 280000. 186500. 105500. 155000. 133500. 255500. 253000.\n 130000.  92900. 256000. 100000. 755000. 138500. 168500. 112000. 127000.\n 109008. 197000. 245500. 171900. 162000. 128000. 173000. 132000. 118000.\n 235128. 118964. 260000. 116000. 185000. 315750. 236500. 140000. 151500.\n 184000.  84000. 130000. 154000. 205000. 110000. 151500. 123000. 129500.\n 173900. 181500. 165500. 106500. 184900.  84500. 377500. 118500. 180000.\n 190000. 208500. 181000.  98000. 157000. 151500.  84000. 139000. 100000.\n 161750. 165600. 116000. 118500. 187000. 147000. 112000. 132000. 230000.\n 128000. 147000. 125000. 145000. 151000. 284000. 221000. 140200. 129000.\n 290000. 105000.  96500. 310000. 140000. 132000. 203000. 221000. 215200.\n 214000. 139000.  91500. 148000. 155000. 115000. 180000. 165500. 223000.\n 139000. 179900. 150000. 185000. 163000. 176000. 127000. 227000. 146000.\n  99900. 275000. 180500. 180000. 157000. 186500. 179900. 137500. 219500.\n 155000. 345000. 197000. 205000. 159000. 159434. 156000. 196000. 252678.\n 255500. 213000. 150900. 143750. 139000. 260000. 189000. 213250. 207500.\n  80000. 221000. 109500. 155000. 165000. 149350. 204900. 105900. 155000.\n 176000. 395000. 149700. 147000. 143900. 226700. 176000. 116000. 325300.\n 133750. 188500. 148500. 284000. 201800.]\n258     231500\n267     179500\n288     122000\n649      84500\n1233    142000\n         ...  \n1017    187500\n534     178000\n1334    125000\n1369    232000\n628     135000\nName: SalePrice, Length: 365, dtype: int64\n",
          "output_type": "stream"
        }
      ]
    },
    {
      "cell_type": "markdown",
      "source": [
        "What do you notice that is different from what you saw with in-sample predictions (which are printed after the top code cell in this page).\n",
        "\n",
        "Do you remember why validation predictions differ from in-sample (or training) predictions? This is an important idea from the last lesson.\n",
        "\n",
        "## Step 4: Calculate the Mean Absolute Error in Validation Data\n"
      ],
      "metadata": {
        "id": "cdepRRWfuKGB"
      }
    },
    {
      "cell_type": "code",
      "source": [
        "from sklearn.metrics import mean_absolute_error\n",
        "val_mae = ____\n",
        "\n",
        "# uncomment following line to see the validation_mae\n",
        "val_mae = mean_absolute_error(val_y, val_predictions)\n",
        "\n",
        "# Check your answer\n",
        "step_4.check()"
      ],
      "metadata": {
        "execution": {
          "iopub.status.busy": "2024-04-19T09:08:57.385582Z",
          "iopub.execute_input": "2024-04-19T09:08:57.386088Z",
          "iopub.status.idle": "2024-04-19T09:08:57.401204Z",
          "shell.execute_reply.started": "2024-04-19T09:08:57.386047Z",
          "shell.execute_reply": "2024-04-19T09:08:57.399739Z"
        },
        "trusted": true,
        "id": "MT6oYRApuKGC",
        "outputId": "4516e8cd-bf0d-477e-d1b4-d7c15a8899aa"
      },
      "execution_count": null,
      "outputs": [
        {
          "output_type": "display_data",
          "data": {
            "text/plain": "<IPython.core.display.Javascript object>",
            "application/javascript": "parent.postMessage({\"jupyterEvent\": \"custom.exercise_interaction\", \"data\": {\"outcomeType\": 1, \"valueTowardsCompletion\": 0.25, \"interactionType\": 1, \"questionType\": 1, \"questionId\": \"4_MAE\", \"learnToolsVersion\": \"0.3.4\", \"failureMessage\": \"\", \"exceptionClass\": \"\", \"trace\": \"\"}}, \"*\")"
          },
          "metadata": {}
        },
        {
          "output_type": "display_data",
          "data": {
            "text/plain": "Correct",
            "text/markdown": "<span style=\"color:#33cc33\">Correct</span>"
          },
          "metadata": {}
        }
      ]
    },
    {
      "cell_type": "code",
      "source": [
        "# step_4.hint()\n",
        "# step_4.solution()"
      ],
      "metadata": {
        "execution": {
          "iopub.status.busy": "2024-04-19T09:09:01.408622Z",
          "iopub.execute_input": "2024-04-19T09:09:01.409034Z",
          "iopub.status.idle": "2024-04-19T09:09:01.413396Z",
          "shell.execute_reply.started": "2024-04-19T09:09:01.408998Z",
          "shell.execute_reply": "2024-04-19T09:09:01.41248Z"
        },
        "trusted": true,
        "id": "j4zF6z6YuKGC"
      },
      "execution_count": null,
      "outputs": []
    },
    {
      "cell_type": "markdown",
      "source": [
        "Is that MAE good?  There isn't a general rule for what values are good that applies across applications. But you'll see how to use (and improve) this number in the next step.\n",
        "\n",
        "# Keep Going\n",
        "\n",
        "You are ready for **[Underfitting and Overfitting](https://www.kaggle.com/dansbecker/underfitting-and-overfitting).**\n"
      ],
      "metadata": {
        "id": "p0VyCexuuKGC"
      }
    },
    {
      "cell_type": "markdown",
      "source": [
        "---\n",
        "\n",
        "\n",
        "\n",
        "\n",
        "*Have questions or comments? Visit the [course discussion forum](https://www.kaggle.com/learn/intro-to-machine-learning/discussion) to chat with other learners.*"
      ],
      "metadata": {
        "id": "c8WKkIJ_uKGC"
      }
    }
  ]
}