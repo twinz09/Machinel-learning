{
  "nbformat": 4,
  "nbformat_minor": 0,
  "metadata": {
    "colab": {
      "provenance": [],
      "gpuType": "T4"
    },
    "kernelspec": {
      "name": "python3",
      "display_name": "Python 3"
    },
    "language_info": {
      "name": "python"
    },
    "accelerator": "GPU"
  },
  "cells": [
    {
      "cell_type": "markdown",
      "source": [
        "#Library"
      ],
      "metadata": {
        "id": "AKC06pY_SB7d"
      }
    },
    {
      "cell_type": "code",
      "execution_count": 1,
      "metadata": {
        "id": "2S7Uj9EwQEo7"
      },
      "outputs": [],
      "source": [
        "import tensorflow as tf\n",
        "import numpy as np\n",
        "from tensorflow import keras\n",
        "from tensorflow.keras.utils import to_categorical\n",
        "from tensorflow.keras import datasets, layers, models\n",
        "import matplotlib.pyplot as plt"
      ]
    },
    {
      "cell_type": "markdown",
      "source": [
        "#Load Dataset"
      ],
      "metadata": {
        "id": "vhVcSScXSb8m"
      }
    },
    {
      "cell_type": "code",
      "source": [
        "# Load dataset CIFAR-10\n",
        "(train_images, train_labels), (test_images, test_labels) = datasets.cifar10.load_data()\n",
        "\n",
        "# Normalisasi nilai pixel ke dalam rentang 0-1\n",
        "train_images, test_images = train_images / 255.0, test_images / 255.0\n"
      ],
      "metadata": {
        "id": "yIO34xEVScUO",
        "colab": {
          "base_uri": "https://localhost:8080/"
        },
        "outputId": "4fb2aaaa-c12c-45da-eb72-4ff816dbb2ec"
      },
      "execution_count": 2,
      "outputs": [
        {
          "output_type": "stream",
          "name": "stdout",
          "text": [
            "Downloading data from https://www.cs.toronto.edu/~kriz/cifar-10-python.tar.gz\n",
            "170498071/170498071 [==============================] - 4s 0us/step\n"
          ]
        }
      ]
    },
    {
      "cell_type": "markdown",
      "source": [
        "#One Hot Encoding"
      ],
      "metadata": {
        "id": "sk3SAF6_9NPZ"
      }
    },
    {
      "cell_type": "code",
      "source": [
        "# One-hot encoding untuk label\n",
        "train_labelsA = to_categorical(train_labels)\n",
        "test_labelsA = to_categorical(test_labels)\n"
      ],
      "metadata": {
        "id": "m2P3ylvCWPCK"
      },
      "execution_count": 3,
      "outputs": []
    },
    {
      "cell_type": "markdown",
      "source": [
        "#Model CNN"
      ],
      "metadata": {
        "id": "H6wUIEKg9SFF"
      }
    },
    {
      "cell_type": "code",
      "source": [
        "# Membuat model CNN menggunakan Sequential API\n",
        "model = models.Sequential()\n",
        "\n",
        "# Menambahkan layer konvolusi pertama dengan 32 filter ukuran 3x3 dan aktivasi ReLU\n",
        "model.add(layers.Conv2D(32, (3, 3), activation='relu', input_shape=(32, 32, 3)))\n",
        "\n",
        "# Menambahkan layer MaxPooling dengan ukuran 2x2\n",
        "model.add(layers.MaxPooling2D((2, 2)))\n",
        "\n",
        "# Menambahkan layer konvolusi kedua dengan 64 filter ukuran 3x3 dan aktivasi ReLU\n",
        "model.add(layers.Conv2D(64, (3, 3), activation='relu'))\n",
        "\n",
        "# Menambahkan layer MaxPooling kedua dengan ukuran 2x2\n",
        "model.add(layers.MaxPooling2D((2, 2)))\n",
        "\n",
        "# Menambahkan layer konvolusi ketiga dengan 64 filter ukuran 3x3 dan aktivasi ReLU\n",
        "model.add(layers.Conv2D(64, (3, 3), activation='relu'))\n",
        "\n",
        "# Flatten output dari layer sebelumnya untuk dihubungkan ke fully connected layer\n",
        "model.add(layers.Flatten())\n",
        "\n",
        "# Menambahkan fully connected layer dengan 64 unit dan aktivasi ReLU\n",
        "model.add(layers.Dense(64, activation='relu'))\n",
        "\n",
        "# Menambahkan output layer dengan 10 unit (jumlah kelas di CIFAR-10) dan aktivasi softmax\n",
        "model.add(layers.Dense(10, activation='softmax'))"
      ],
      "metadata": {
        "id": "jN6lHn3eYmBo"
      },
      "execution_count": 4,
      "outputs": []
    },
    {
      "cell_type": "markdown",
      "source": [
        "#Training Model"
      ],
      "metadata": {
        "id": "UgnEXnbn9sTI"
      }
    },
    {
      "cell_type": "code",
      "source": [
        "# Compile model dengan optimizer Adam dan loss categorical crossentropy\n",
        "model.compile(optimizer='adam', loss='categorical_crossentropy', metrics=['accuracy'])\n",
        "\n",
        "# Melatih model dengan data training, menggunakan batch size 200, dan validasi dengan data test\n",
        "history = model.fit(train_images, train_labelsA, epochs=20, batch_size=200, validation_data=(test_images, test_labelsA))\n"
      ],
      "metadata": {
        "colab": {
          "base_uri": "https://localhost:8080/"
        },
        "id": "qte4ry2rZ9f4",
        "outputId": "177bbded-7acc-465c-f132-8a8f7e9eec2a"
      },
      "execution_count": 5,
      "outputs": [
        {
          "output_type": "stream",
          "name": "stdout",
          "text": [
            "Epoch 1/20\n",
            "250/250 [==============================] - 60s 234ms/step - loss: 1.7016 - accuracy: 0.3779 - val_loss: 1.4240 - val_accuracy: 0.4857\n",
            "Epoch 2/20\n",
            "250/250 [==============================] - 56s 225ms/step - loss: 1.3586 - accuracy: 0.5131 - val_loss: 1.2792 - val_accuracy: 0.5438\n",
            "Epoch 3/20\n",
            "250/250 [==============================] - 57s 227ms/step - loss: 1.2171 - accuracy: 0.5671 - val_loss: 1.1660 - val_accuracy: 0.5823\n",
            "Epoch 4/20\n",
            "250/250 [==============================] - 58s 232ms/step - loss: 1.1108 - accuracy: 0.6085 - val_loss: 1.1114 - val_accuracy: 0.6117\n",
            "Epoch 5/20\n",
            "250/250 [==============================] - 63s 251ms/step - loss: 1.0369 - accuracy: 0.6347 - val_loss: 1.0084 - val_accuracy: 0.6463\n",
            "Epoch 6/20\n",
            "250/250 [==============================] - 57s 230ms/step - loss: 0.9784 - accuracy: 0.6568 - val_loss: 0.9740 - val_accuracy: 0.6602\n",
            "Epoch 7/20\n",
            "250/250 [==============================] - 64s 255ms/step - loss: 0.9160 - accuracy: 0.6799 - val_loss: 0.9380 - val_accuracy: 0.6682\n",
            "Epoch 8/20\n",
            "250/250 [==============================] - 61s 243ms/step - loss: 0.8797 - accuracy: 0.6942 - val_loss: 0.9252 - val_accuracy: 0.6772\n",
            "Epoch 9/20\n",
            "250/250 [==============================] - 65s 262ms/step - loss: 0.8452 - accuracy: 0.7066 - val_loss: 0.9111 - val_accuracy: 0.6839\n",
            "Epoch 10/20\n",
            "250/250 [==============================] - 57s 228ms/step - loss: 0.8179 - accuracy: 0.7164 - val_loss: 0.8908 - val_accuracy: 0.6899\n",
            "Epoch 11/20\n",
            "250/250 [==============================] - 57s 229ms/step - loss: 0.7835 - accuracy: 0.7289 - val_loss: 0.8886 - val_accuracy: 0.6874\n",
            "Epoch 12/20\n",
            "250/250 [==============================] - 58s 230ms/step - loss: 0.7553 - accuracy: 0.7379 - val_loss: 0.8695 - val_accuracy: 0.7007\n",
            "Epoch 13/20\n",
            "250/250 [==============================] - 60s 240ms/step - loss: 0.7284 - accuracy: 0.7484 - val_loss: 0.8561 - val_accuracy: 0.7035\n",
            "Epoch 14/20\n",
            "250/250 [==============================] - 57s 228ms/step - loss: 0.7049 - accuracy: 0.7550 - val_loss: 0.8845 - val_accuracy: 0.6988\n",
            "Epoch 15/20\n",
            "250/250 [==============================] - 59s 238ms/step - loss: 0.6789 - accuracy: 0.7650 - val_loss: 0.8402 - val_accuracy: 0.7117\n",
            "Epoch 16/20\n",
            "250/250 [==============================] - 57s 230ms/step - loss: 0.6635 - accuracy: 0.7701 - val_loss: 0.8470 - val_accuracy: 0.7122\n",
            "Epoch 17/20\n",
            "250/250 [==============================] - 60s 240ms/step - loss: 0.6392 - accuracy: 0.7779 - val_loss: 0.8361 - val_accuracy: 0.7165\n",
            "Epoch 18/20\n",
            "250/250 [==============================] - 61s 244ms/step - loss: 0.6205 - accuracy: 0.7846 - val_loss: 0.8640 - val_accuracy: 0.7103\n",
            "Epoch 19/20\n",
            "250/250 [==============================] - 58s 231ms/step - loss: 0.6033 - accuracy: 0.7898 - val_loss: 0.8783 - val_accuracy: 0.7060\n",
            "Epoch 20/20\n",
            "250/250 [==============================] - 58s 230ms/step - loss: 0.5793 - accuracy: 0.7986 - val_loss: 0.8734 - val_accuracy: 0.7088\n"
          ]
        }
      ]
    },
    {
      "cell_type": "code",
      "source": [
        "# Membuat prediksi dengan model pada data test\n",
        "y_predict = model.predict(test_images)\n",
        "\n",
        "# Menampilkan prediksi untuk gambar test pertama yang diprediksi\n",
        "np.round(y_predict[15])"
      ],
      "metadata": {
        "id": "Fb9gHUasPHHH",
        "colab": {
          "base_uri": "https://localhost:8080/"
        },
        "outputId": "2e65b804-7b78-4309-f444-98d3ea548705"
      },
      "execution_count": 15,
      "outputs": [
        {
          "output_type": "stream",
          "name": "stdout",
          "text": [
            "313/313 [==============================] - 6s 18ms/step\n"
          ]
        },
        {
          "output_type": "execute_result",
          "data": {
            "text/plain": [
              "array([0., 0., 0., 0., 0., 0., 1., 0., 0., 0.], dtype=float32)"
            ]
          },
          "metadata": {},
          "execution_count": 15
        }
      ]
    },
    {
      "cell_type": "code",
      "source": [
        "# Menampilkan gambar test pertama\n",
        "plt.imshow(test_images[15])\n",
        "# plt.show()"
      ],
      "metadata": {
        "colab": {
          "base_uri": "https://localhost:8080/",
          "height": 447
        },
        "id": "BlnX1jfdQrOt",
        "outputId": "12c4279e-a097-453c-b44b-b8131030cec7"
      },
      "execution_count": 16,
      "outputs": [
        {
          "output_type": "execute_result",
          "data": {
            "text/plain": [
              "<matplotlib.image.AxesImage at 0x7ad7f2253be0>"
            ]
          },
          "metadata": {},
          "execution_count": 16
        },
        {
          "output_type": "display_data",
          "data": {
            "text/plain": [
              "<Figure size 640x480 with 1 Axes>"
            ],
            "image/png": "[encoded data removed]"
          },
          "metadata": {}
        }
      ]
    }
  ]
}